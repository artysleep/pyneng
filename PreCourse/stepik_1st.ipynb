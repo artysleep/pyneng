{
 "cells": [
  {
   "cell_type": "markdown",
   "id": "da3acdd1",
   "metadata": {},
   "source": [
    "# Stepik_1st"
   ]
  },
  {
   "cell_type": "code",
   "execution_count": 1,
   "id": "93902199",
   "metadata": {},
   "outputs": [
    {
     "name": "stdout",
     "output_type": "stream",
     "text": [
      "4\n"
     ]
    }
   ],
   "source": [
    "print (2+2)"
   ]
  },
  {
   "cell_type": "markdown",
   "id": "c0d23e10",
   "metadata": {},
   "source": [
    "# Бинарные операторы"
   ]
  },
  {
   "cell_type": "code",
   "execution_count": 2,
   "id": "2bcac1ce",
   "metadata": {},
   "outputs": [
    {
     "name": "stdout",
     "output_type": "stream",
     "text": [
      "4\n"
     ]
    }
   ],
   "source": [
    "print(2+2)"
   ]
  },
  {
   "cell_type": "markdown",
   "id": "70b83f88",
   "metadata": {},
   "source": [
    "Первый запуск jypyter!"
   ]
  },
  {
   "cell_type": "code",
   "execution_count": 3,
   "id": "d31177a3",
   "metadata": {},
   "outputs": [
    {
     "data": {
      "text/plain": [
       "7"
      ]
     },
     "execution_count": 3,
     "metadata": {},
     "output_type": "execute_result"
    }
   ],
   "source": [
    "2+5"
   ]
  },
  {
   "cell_type": "code",
   "execution_count": 4,
   "id": "e5f68df7",
   "metadata": {},
   "outputs": [
    {
     "data": {
      "text/plain": [
       "-3"
      ]
     },
     "execution_count": 4,
     "metadata": {},
     "output_type": "execute_result"
    }
   ],
   "source": [
    "2-5"
   ]
  },
  {
   "cell_type": "code",
   "execution_count": 5,
   "id": "fd3154db",
   "metadata": {},
   "outputs": [
    {
     "data": {
      "text/plain": [
       "15"
      ]
     },
     "execution_count": 5,
     "metadata": {},
     "output_type": "execute_result"
    }
   ],
   "source": [
    "6*2+3"
   ]
  },
  {
   "cell_type": "code",
   "execution_count": 6,
   "id": "a6ee67bd",
   "metadata": {},
   "outputs": [
    {
     "data": {
      "text/plain": [
       "23"
      ]
     },
     "execution_count": 6,
     "metadata": {},
     "output_type": "execute_result"
    }
   ],
   "source": [
    "3+5*4"
   ]
  },
  {
   "cell_type": "code",
   "execution_count": 7,
   "id": "6e8598cd",
   "metadata": {},
   "outputs": [
    {
     "data": {
      "text/plain": [
       "30"
      ]
     },
     "execution_count": 7,
     "metadata": {},
     "output_type": "execute_result"
    }
   ],
   "source": [
    "6*(2+3)"
   ]
  },
  {
   "cell_type": "code",
   "execution_count": 8,
   "id": "7661cdf2",
   "metadata": {},
   "outputs": [
    {
     "data": {
      "text/plain": [
       "4.0"
      ]
     },
     "execution_count": 8,
     "metadata": {},
     "output_type": "execute_result"
    }
   ],
   "source": [
    "6*2/3"
   ]
  },
  {
   "cell_type": "code",
   "execution_count": 9,
   "id": "27ae7103",
   "metadata": {},
   "outputs": [
    {
     "data": {
      "text/plain": [
       "12345554321"
      ]
     },
     "execution_count": 9,
     "metadata": {},
     "output_type": "execute_result"
    }
   ],
   "source": [
    "11111*1111111"
   ]
  },
  {
   "cell_type": "code",
   "execution_count": 10,
   "id": "2809c02f",
   "metadata": {},
   "outputs": [
    {
     "data": {
      "text/plain": [
       "8"
      ]
     },
     "execution_count": 10,
     "metadata": {},
     "output_type": "execute_result"
    }
   ],
   "source": [
    "40//5"
   ]
  },
  {
   "cell_type": "code",
   "execution_count": 11,
   "id": "9149dc3a",
   "metadata": {},
   "outputs": [
    {
     "data": {
      "text/plain": [
       "5"
      ]
     },
     "execution_count": 11,
     "metadata": {},
     "output_type": "execute_result"
    }
   ],
   "source": [
    "42//8"
   ]
  },
  {
   "cell_type": "code",
   "execution_count": 12,
   "id": "1ac35c8e",
   "metadata": {},
   "outputs": [
    {
     "data": {
      "text/plain": [
       "2"
      ]
     },
     "execution_count": 12,
     "metadata": {},
     "output_type": "execute_result"
    }
   ],
   "source": [
    "42%8"
   ]
  },
  {
   "cell_type": "code",
   "execution_count": 26,
   "id": "162796c0",
   "metadata": {},
   "outputs": [
    {
     "ename": "ZeroDivisionError",
     "evalue": "division by zero",
     "output_type": "error",
     "traceback": [
      "\u001b[1;31m---------------------------------------------------------------------------\u001b[0m",
      "\u001b[1;31mZeroDivisionError\u001b[0m                         Traceback (most recent call last)",
      "Input \u001b[1;32mIn [26]\u001b[0m, in \u001b[0;36m<module>\u001b[1;34m\u001b[0m\n\u001b[1;32m----> 1\u001b[0m \u001b[38;5;241;43m42\u001b[39;49m\u001b[38;5;241;43m/\u001b[39;49m\u001b[43m(\u001b[49m\u001b[38;5;241;43m4\u001b[39;49m\u001b[38;5;241;43m+\u001b[39;49m\u001b[38;5;241;43m2\u001b[39;49m\u001b[38;5;241;43m*\u001b[39;49m\u001b[43m(\u001b[49m\u001b[38;5;241;43m-\u001b[39;49m\u001b[38;5;241;43m2\u001b[39;49m\u001b[43m)\u001b[49m\u001b[43m)\u001b[49m\n",
      "\u001b[1;31mZeroDivisionError\u001b[0m: division by zero"
     ]
    }
   ],
   "source": [
    "42/(4+2*(-2))"
   ]
  },
  {
   "cell_type": "code",
   "execution_count": 15,
   "id": "4d18b554",
   "metadata": {},
   "outputs": [
    {
     "data": {
      "text/plain": [
       "32"
      ]
     },
     "execution_count": 15,
     "metadata": {},
     "output_type": "execute_result"
    }
   ],
   "source": [
    "2**5"
   ]
  },
  {
   "cell_type": "code",
   "execution_count": 16,
   "id": "ec852271",
   "metadata": {},
   "outputs": [
    {
     "data": {
      "text/plain": [
       "18064773765607550801425251468864907833685590016"
      ]
     },
     "execution_count": 16,
     "metadata": {},
     "output_type": "execute_result"
    }
   ],
   "source": [
    "2014**14"
   ]
  },
  {
   "cell_type": "code",
   "execution_count": 17,
   "id": "af07ed94",
   "metadata": {},
   "outputs": [
    {
     "data": {
      "text/plain": [
       "42"
      ]
     },
     "execution_count": 17,
     "metadata": {},
     "output_type": "execute_result"
    }
   ],
   "source": [
    "--42"
   ]
  },
  {
   "cell_type": "code",
   "execution_count": 18,
   "id": "f5a99657",
   "metadata": {},
   "outputs": [
    {
     "data": {
      "text/plain": [
       "-42"
      ]
     },
     "execution_count": 18,
     "metadata": {},
     "output_type": "execute_result"
    }
   ],
   "source": [
    "-(42)"
   ]
  },
  {
   "cell_type": "code",
   "execution_count": 19,
   "id": "a098b109",
   "metadata": {},
   "outputs": [
    {
     "ename": "SyntaxError",
     "evalue": "invalid syntax (3710486552.py, line 1)",
     "output_type": "error",
     "traceback": [
      "\u001b[1;36m  Input \u001b[1;32mIn [19]\u001b[1;36m\u001b[0m\n\u001b[1;33m    -*42\u001b[0m\n\u001b[1;37m     ^\u001b[0m\n\u001b[1;31mSyntaxError\u001b[0m\u001b[1;31m:\u001b[0m invalid syntax\n"
     ]
    }
   ],
   "source": [
    "-*42"
   ]
  },
  {
   "cell_type": "code",
   "execution_count": 21,
   "id": "25a5170e",
   "metadata": {},
   "outputs": [
    {
     "ename": "SyntaxError",
     "evalue": "invalid syntax (1058058627.py, line 2)",
     "output_type": "error",
     "traceback": [
      "\u001b[1;36m  Input \u001b[1;32mIn [21]\u001b[1;36m\u001b[0m\n\u001b[1;33m    -*2\u001b[0m\n\u001b[1;37m     ^\u001b[0m\n\u001b[1;31mSyntaxError\u001b[0m\u001b[1;31m:\u001b[0m invalid syntax\n"
     ]
    }
   ],
   "source": [
    "print(\"test\")\n",
    "-*2"
   ]
  },
  {
   "cell_type": "code",
   "execution_count": 2,
   "id": "93787dcf",
   "metadata": {},
   "outputs": [
    {
     "ename": "ZeroDivisionError",
     "evalue": "integer division or modulo by zero",
     "output_type": "error",
     "traceback": [
      "\u001b[1;31m---------------------------------------------------------------------------\u001b[0m",
      "\u001b[1;31mZeroDivisionError\u001b[0m                         Traceback (most recent call last)",
      "Input \u001b[1;32mIn [2]\u001b[0m, in \u001b[0;36m<module>\u001b[1;34m\u001b[0m\n\u001b[1;32m----> 1\u001b[0m \u001b[38;5;241;43m5\u001b[39;49m\u001b[38;5;241;43m/\u001b[39;49m\u001b[38;5;241;43m/\u001b[39;49m\u001b[38;5;241;43m0\u001b[39;49m\n",
      "\u001b[1;31mZeroDivisionError\u001b[0m: integer division or modulo by zero"
     ]
    }
   ],
   "source": [
    "5//0"
   ]
  },
  {
   "cell_type": "markdown",
   "id": "b3856c19",
   "metadata": {},
   "source": [
    "# Операции с вещественными числами"
   ]
  },
  {
   "cell_type": "code",
   "execution_count": 27,
   "id": "78660460",
   "metadata": {},
   "outputs": [
    {
     "data": {
      "text/plain": [
       "0.5"
      ]
     },
     "execution_count": 27,
     "metadata": {},
     "output_type": "execute_result"
    }
   ],
   "source": [
    "0.5"
   ]
  },
  {
   "cell_type": "code",
   "execution_count": 28,
   "id": "7c8f2f7b",
   "metadata": {},
   "outputs": [
    {
     "data": {
      "text/plain": [
       "0.8"
      ]
     },
     "execution_count": 28,
     "metadata": {},
     "output_type": "execute_result"
    }
   ],
   "source": [
    "0.5+0.3"
   ]
  },
  {
   "cell_type": "code",
   "execution_count": 29,
   "id": "63ed44fc",
   "metadata": {},
   "outputs": [
    {
     "data": {
      "text/plain": [
       "2.5"
      ]
     },
     "execution_count": 29,
     "metadata": {},
     "output_type": "execute_result"
    }
   ],
   "source": [
    "5/2"
   ]
  },
  {
   "cell_type": "code",
   "execution_count": 30,
   "id": "6f9e41c6",
   "metadata": {},
   "outputs": [
    {
     "data": {
      "text/plain": [
       "2"
      ]
     },
     "execution_count": 30,
     "metadata": {},
     "output_type": "execute_result"
    }
   ],
   "source": [
    "5//2"
   ]
  },
  {
   "cell_type": "code",
   "execution_count": 31,
   "id": "ff81f932",
   "metadata": {},
   "outputs": [
    {
     "data": {
      "text/plain": [
       "0.8999999999999999"
      ]
     },
     "execution_count": 31,
     "metadata": {},
     "output_type": "execute_result"
    }
   ],
   "source": [
    "0.3 + 0.3 + 0.3"
   ]
  },
  {
   "cell_type": "code",
   "execution_count": 32,
   "id": "69394320",
   "metadata": {},
   "outputs": [
    {
     "data": {
      "text/plain": [
       "32"
      ]
     },
     "execution_count": 32,
     "metadata": {},
     "output_type": "execute_result"
    }
   ],
   "source": [
    "2 ** 5"
   ]
  },
  {
   "cell_type": "code",
   "execution_count": 33,
   "id": "d3ecddb8",
   "metadata": {},
   "outputs": [
    {
     "data": {
      "text/plain": [
       "1.4142135623730951"
      ]
     },
     "execution_count": 33,
     "metadata": {},
     "output_type": "execute_result"
    }
   ],
   "source": [
    "2 ** 0.5"
   ]
  },
  {
   "cell_type": "code",
   "execution_count": 34,
   "id": "f4813521",
   "metadata": {},
   "outputs": [
    {
     "data": {
      "text/plain": [
       "0.7071067811865476"
      ]
     },
     "execution_count": 34,
     "metadata": {},
     "output_type": "execute_result"
    }
   ],
   "source": [
    "2 ** (-0.5)"
   ]
  },
  {
   "cell_type": "code",
   "execution_count": 35,
   "id": "25d94a61",
   "metadata": {},
   "outputs": [
    {
     "data": {
      "text/plain": [
       "0.5"
      ]
     },
     "execution_count": 35,
     "metadata": {},
     "output_type": "execute_result"
    }
   ],
   "source": [
    "5e-1"
   ]
  },
  {
   "cell_type": "code",
   "execution_count": 36,
   "id": "659a9b71",
   "metadata": {},
   "outputs": [
    {
     "data": {
      "text/plain": [
       "12.34"
      ]
     },
     "execution_count": 36,
     "metadata": {},
     "output_type": "execute_result"
    }
   ],
   "source": [
    "1234e-2"
   ]
  },
  {
   "cell_type": "code",
   "execution_count": 37,
   "id": "e8e58f95",
   "metadata": {},
   "outputs": [
    {
     "data": {
      "text/plain": [
       "1234.5"
      ]
     },
     "execution_count": 37,
     "metadata": {},
     "output_type": "execute_result"
    }
   ],
   "source": [
    "1.2345e3"
   ]
  },
  {
   "cell_type": "code",
   "execution_count": 38,
   "id": "16c2fb3b",
   "metadata": {},
   "outputs": [
    {
     "data": {
      "text/plain": [
       "0.0012345"
      ]
     },
     "execution_count": 38,
     "metadata": {},
     "output_type": "execute_result"
    }
   ],
   "source": [
    "1.2345e-3"
   ]
  },
  {
   "cell_type": "code",
   "execution_count": 39,
   "id": "fd66d841",
   "metadata": {},
   "outputs": [
    {
     "data": {
      "text/plain": [
       "1.806477376560755e+46"
      ]
     },
     "execution_count": 39,
     "metadata": {},
     "output_type": "execute_result"
    }
   ],
   "source": [
    "2014.0**14"
   ]
  },
  {
   "cell_type": "code",
   "execution_count": 40,
   "id": "6ba15e12",
   "metadata": {},
   "outputs": [
    {
     "data": {
      "text/plain": [
       "2.3333333333333335"
      ]
     },
     "execution_count": 40,
     "metadata": {},
     "output_type": "execute_result"
    }
   ],
   "source": [
    "7/3"
   ]
  },
  {
   "cell_type": "code",
   "execution_count": 41,
   "id": "0275021e",
   "metadata": {},
   "outputs": [
    {
     "data": {
      "text/plain": [
       "2"
      ]
     },
     "execution_count": 41,
     "metadata": {},
     "output_type": "execute_result"
    }
   ],
   "source": [
    "7//3"
   ]
  },
  {
   "cell_type": "code",
   "execution_count": 42,
   "id": "693c1d4f",
   "metadata": {},
   "outputs": [
    {
     "data": {
      "text/plain": [
       "2.0"
      ]
     },
     "execution_count": 42,
     "metadata": {},
     "output_type": "execute_result"
    }
   ],
   "source": [
    "7.0//3.0"
   ]
  },
  {
   "cell_type": "code",
   "execution_count": 43,
   "id": "c8d63605",
   "metadata": {},
   "outputs": [
    {
     "data": {
      "text/plain": [
       "2"
      ]
     },
     "execution_count": 43,
     "metadata": {},
     "output_type": "execute_result"
    }
   ],
   "source": [
    "int(7.0//3.0)"
   ]
  },
  {
   "cell_type": "code",
   "execution_count": 44,
   "id": "83982742",
   "metadata": {},
   "outputs": [
    {
     "data": {
      "text/plain": [
       "2"
      ]
     },
     "execution_count": 44,
     "metadata": {},
     "output_type": "execute_result"
    }
   ],
   "source": [
    "int(7.3//3.0)"
   ]
  },
  {
   "cell_type": "code",
   "execution_count": 45,
   "id": "0db6bbbe",
   "metadata": {},
   "outputs": [
    {
     "data": {
      "text/plain": [
       "2"
      ]
     },
     "execution_count": 45,
     "metadata": {},
     "output_type": "execute_result"
    }
   ],
   "source": [
    "int(2.99)"
   ]
  },
  {
   "cell_type": "code",
   "execution_count": 46,
   "id": "6b47bb6c",
   "metadata": {},
   "outputs": [
    {
     "data": {
      "text/plain": [
       "-1"
      ]
     },
     "execution_count": 46,
     "metadata": {},
     "output_type": "execute_result"
    }
   ],
   "source": [
    "int(-1.6)"
   ]
  },
  {
   "cell_type": "code",
   "execution_count": 47,
   "id": "4a712c61",
   "metadata": {},
   "outputs": [
    {
     "data": {
      "text/plain": [
       "89"
      ]
     },
     "execution_count": 47,
     "metadata": {},
     "output_type": "execute_result"
    }
   ],
   "source": [
    "9**19 - int(float(9**19))"
   ]
  },
  {
   "cell_type": "code",
   "execution_count": 68,
   "id": "543dce01",
   "metadata": {},
   "outputs": [
    {
     "data": {
      "text/plain": [
       "int"
      ]
     },
     "execution_count": 68,
     "metadata": {},
     "output_type": "execute_result"
    }
   ],
   "source": [
    "type(9**19 - int(float(9**19)))"
   ]
  },
  {
   "cell_type": "markdown",
   "id": "475f4d49",
   "metadata": {},
   "source": [
    "# Стандартный ввод/вывод"
   ]
  },
  {
   "cell_type": "code",
   "execution_count": 69,
   "id": "f2fb0f68",
   "metadata": {},
   "outputs": [
    {
     "name": "stdout",
     "output_type": "stream",
     "text": [
      "5\n"
     ]
    }
   ],
   "source": [
    "a=2\n",
    "b=3\n",
    "print(a+b)"
   ]
  },
  {
   "cell_type": "code",
   "execution_count": 70,
   "id": "8799d4cb",
   "metadata": {},
   "outputs": [
    {
     "name": "stdout",
     "output_type": "stream",
     "text": [
      "5\n"
     ]
    }
   ],
   "source": [
    "print(a+b)"
   ]
  },
  {
   "cell_type": "code",
   "execution_count": 71,
   "id": "7b96c543",
   "metadata": {},
   "outputs": [],
   "source": [
    "a=6"
   ]
  },
  {
   "cell_type": "code",
   "execution_count": 72,
   "id": "f83355c0",
   "metadata": {},
   "outputs": [
    {
     "name": "stdout",
     "output_type": "stream",
     "text": [
      "9\n"
     ]
    }
   ],
   "source": [
    "print(a+b)"
   ]
  },
  {
   "cell_type": "code",
   "execution_count": 73,
   "id": "34c4fd47",
   "metadata": {},
   "outputs": [
    {
     "name": "stdout",
     "output_type": "stream",
     "text": [
      "3\n",
      "5\n"
     ]
    }
   ],
   "source": [
    "print(b)\n",
    "b=b+2\n",
    "print(b)"
   ]
  },
  {
   "cell_type": "code",
   "execution_count": null,
   "id": "8f516f67",
   "metadata": {},
   "outputs": [],
   "source": [
    "print(c)"
   ]
  },
  {
   "cell_type": "code",
   "execution_count": 77,
   "id": "c81a017a",
   "metadata": {},
   "outputs": [
    {
     "name": "stdout",
     "output_type": "stream",
     "text": [
      "1\n",
      "2\n",
      "0.5\n"
     ]
    }
   ],
   "source": [
    "a = int(input())\n",
    "b = int(input())\n",
    "print(a / b)"
   ]
  },
  {
   "cell_type": "code",
   "execution_count": 81,
   "id": "f38d2416",
   "metadata": {},
   "outputs": [
    {
     "name": "stdout",
     "output_type": "stream",
     "text": [
      "Arty\n",
      "Hello, Arty\n"
     ]
    }
   ],
   "source": [
    "name = input()\n",
    "print (\"Hello,\", name)"
   ]
  },
  {
   "cell_type": "code",
   "execution_count": 82,
   "id": "9634c583",
   "metadata": {},
   "outputs": [
    {
     "name": "stdout",
     "output_type": "stream",
     "text": [
      "2\n",
      "68719476736\n"
     ]
    }
   ],
   "source": [
    "a = int(input())\n",
    "print(a**36)"
   ]
  },
  {
   "cell_type": "code",
   "execution_count": 84,
   "id": "0c4b2d89",
   "metadata": {},
   "outputs": [
    {
     "name": "stdout",
     "output_type": "stream",
     "text": [
      "6\n",
      "7\n",
      "42\n"
     ]
    }
   ],
   "source": [
    "a=int(input())\n",
    "b=int(input())\n",
    "print (a*b)"
   ]
  },
  {
   "cell_type": "code",
   "execution_count": 1,
   "id": "8aa6445f",
   "metadata": {},
   "outputs": [
    {
     "name": "stdout",
     "output_type": "stream",
     "text": [
      "2\n",
      "2\n",
      "122\n"
     ]
    }
   ],
   "source": [
    "X = int(input())\n",
    "Y = int(input())\n",
    "print(X*60 + Y)"
   ]
  },
  {
   "cell_type": "code",
   "execution_count": 1,
   "id": "25c43c4c",
   "metadata": {},
   "outputs": [
    {
     "name": "stdout",
     "output_type": "stream",
     "text": [
      "512\n",
      "8\n",
      "32\n"
     ]
    }
   ],
   "source": [
    "Z = int(input())\n",
    "print(Z//60)\n",
    "print(Z%60)"
   ]
  },
  {
   "cell_type": "code",
   "execution_count": 1,
   "id": "75703e9b",
   "metadata": {},
   "outputs": [
    {
     "name": "stdout",
     "output_type": "stream",
     "text": [
      "475\n",
      "1\n",
      "55\n",
      "9\n",
      "50\n"
     ]
    }
   ],
   "source": [
    "X = int(input())\n",
    "H = int(input())\n",
    "M = int(input())\n",
    "print((X+H*60+M)//60)\n",
    "print((X+H*60+M)%60)"
   ]
  },
  {
   "cell_type": "markdown",
   "id": "68e41056",
   "metadata": {},
   "source": [
    "# Логические операции"
   ]
  },
  {
   "cell_type": "code",
   "execution_count": 6,
   "id": "82db6827",
   "metadata": {},
   "outputs": [
    {
     "name": "stdout",
     "output_type": "stream",
     "text": [
      "True\n",
      "False\n",
      "False\n"
     ]
    }
   ],
   "source": [
    "x = True\n",
    "y = False\n",
    "print(x or y)\n",
    "print(x and y)\n",
    "print(not x)"
   ]
  },
  {
   "cell_type": "code",
   "execution_count": 7,
   "id": "547f0449",
   "metadata": {},
   "outputs": [
    {
     "name": "stdout",
     "output_type": "stream",
     "text": [
      "1\n",
      "0\n",
      "False\n"
     ]
    }
   ],
   "source": [
    "x = 1\n",
    "y = 0\n",
    "print(x or y)\n",
    "print(x and y)\n",
    "print(not x)"
   ]
  },
  {
   "cell_type": "code",
   "execution_count": 1,
   "id": "f114c434",
   "metadata": {},
   "outputs": [
    {
     "name": "stdout",
     "output_type": "stream",
     "text": [
      "2\n",
      "True\n"
     ]
    }
   ],
   "source": [
    "a = int(input())\n",
    "print (a>0)"
   ]
  },
  {
   "cell_type": "code",
   "execution_count": 2,
   "id": "9fe5d5a6",
   "metadata": {},
   "outputs": [
    {
     "name": "stdout",
     "output_type": "stream",
     "text": [
      "44\n",
      "True\n"
     ]
    }
   ],
   "source": [
    "a = int(input())\n",
    "print (10 < a < 100)"
   ]
  },
  {
   "cell_type": "code",
   "execution_count": 4,
   "id": "c8f6c82a",
   "metadata": {},
   "outputs": [
    {
     "data": {
      "text/plain": [
       "True"
      ]
     },
     "execution_count": 4,
     "metadata": {},
     "output_type": "execute_result"
    }
   ],
   "source": [
    "x1,x2,x3 = False,True,False\n",
    "not x1 or x2 and x3\n",
    "#not -> and -> or"
   ]
  },
  {
   "cell_type": "code",
   "execution_count": 5,
   "id": "588b3052",
   "metadata": {},
   "outputs": [
    {
     "ename": "NameError",
     "evalue": "name 'b' is not defined",
     "output_type": "error",
     "traceback": [
      "\u001b[1;31m---------------------------------------------------------------------------\u001b[0m",
      "\u001b[1;31mNameError\u001b[0m                                 Traceback (most recent call last)",
      "Input \u001b[1;32mIn [5]\u001b[0m, in \u001b[0;36m<module>\u001b[1;34m\u001b[0m\n\u001b[1;32m----> 1\u001b[0m ((a \u001b[38;5;129;01mand\u001b[39;00m \u001b[43mb\u001b[49m) \u001b[38;5;129;01mor\u001b[39;00m ((\u001b[38;5;129;01mnot\u001b[39;00m a) \u001b[38;5;129;01mand\u001b[39;00m (\u001b[38;5;129;01mnot\u001b[39;00m b)))\n",
      "\u001b[1;31mNameError\u001b[0m: name 'b' is not defined"
     ]
    }
   ],
   "source": [
    "((a and b) or ((not a) and (not b)))"
   ]
  },
  {
   "cell_type": "code",
   "execution_count": 6,
   "id": "1625ebc2",
   "metadata": {},
   "outputs": [
    {
     "data": {
      "text/plain": [
       "True"
      ]
     },
     "execution_count": 6,
     "metadata": {},
     "output_type": "execute_result"
    }
   ],
   "source": [
    "x = 5\n",
    "y = 10\n",
    "y > x * x or y >= 2 * x and x < y"
   ]
  },
  {
   "cell_type": "code",
   "execution_count": 7,
   "id": "e2bab5d1",
   "metadata": {},
   "outputs": [
    {
     "data": {
      "text/plain": [
       "False"
      ]
     },
     "execution_count": 7,
     "metadata": {},
     "output_type": "execute_result"
    }
   ],
   "source": [
    "a = True\n",
    "b = False\n",
    "a and b or not a and not b"
   ]
  },
  {
   "cell_type": "code",
   "execution_count": 10,
   "id": "7c7ccad7",
   "metadata": {},
   "outputs": [
    {
     "name": "stdout",
     "output_type": "stream",
     "text": [
      "5\n",
      "Нечетное\n"
     ]
    }
   ],
   "source": [
    "x = int(input())\n",
    "if x % 2 == 0:\n",
    "    print ('Четное')\n",
    "else:\n",
    "    print (\"Нечетное\")"
   ]
  },
  {
   "cell_type": "markdown",
   "id": "305ab352",
   "metadata": {},
   "source": [
    "# IF ELSE IFELSE\n"
   ]
  },
  {
   "cell_type": "code",
   "execution_count": 1,
   "id": "fcfe20cb",
   "metadata": {},
   "outputs": [
    {
     "name": "stdout",
     "output_type": "stream",
     "text": [
      "5\n",
      "0\n",
      "/0\n",
      "2\n",
      "2.5\n"
     ]
    }
   ],
   "source": [
    "a = int(input())\n",
    "b = int(input())\n",
    "if b!=0:\n",
    "    print (a/b)\n",
    "else:\n",
    "    print (\"/0\")\n",
    "    b = int(input())\n",
    "    print (a/b)"
   ]
  },
  {
   "cell_type": "code",
   "execution_count": 3,
   "id": "c8ac84b5",
   "metadata": {},
   "outputs": [
    {
     "name": "stdout",
     "output_type": "stream",
     "text": [
      "A7\n",
      "B9\n",
      "H10\n",
      "Пересып\n"
     ]
    }
   ],
   "source": [
    "A = int(input())\n",
    "B = int(input())\n",
    "H = int(input())\n",
    "if H < A:\n",
    "    print(\"Недосып\")\n",
    "elif H>B:\n",
    "    print(\"Пересып\")\n",
    "elif A <= H <= B:\n",
    "    print(\"Это нормально\")\n",
    "    "
   ]
  },
  {
   "cell_type": "code",
   "execution_count": 2,
   "id": "cc7c5de6",
   "metadata": {},
   "outputs": [
    {
     "name": "stdout",
     "output_type": "stream",
     "text": [
      "2000\n",
      "Високосный\n"
     ]
    }
   ],
   "source": [
    "A = int(input())\n",
    "if 1900 <= A <= 3000:\n",
    "    if (A%4==0 and A%100!=0) or (A%400==0):\n",
    "        print(\"Високосный\")\n",
    "    else: \n",
    "        print(\"Обычный\")\n",
    "else:\n",
    "    print(\"Неверный ввод\")\n"
   ]
  },
  {
   "cell_type": "code",
   "execution_count": 1,
   "id": "abe2be23",
   "metadata": {},
   "outputs": [
    {
     "data": {
      "text/plain": [
       "'abcabc'"
      ]
     },
     "execution_count": 1,
     "metadata": {},
     "output_type": "execute_result"
    }
   ],
   "source": [
    "'abc' +'abc'"
   ]
  },
  {
   "cell_type": "code",
   "execution_count": 2,
   "id": "a31bae0f",
   "metadata": {},
   "outputs": [
    {
     "data": {
      "text/plain": [
       "'abcabc'"
      ]
     },
     "execution_count": 2,
     "metadata": {},
     "output_type": "execute_result"
    }
   ],
   "source": [
    "'abc'*2"
   ]
  },
  {
   "cell_type": "code",
   "execution_count": 3,
   "id": "f49d4608",
   "metadata": {},
   "outputs": [
    {
     "data": {
      "text/plain": [
       "True"
      ]
     },
     "execution_count": 3,
     "metadata": {},
     "output_type": "execute_result"
    }
   ],
   "source": [
    "'abc' == \"abc\""
   ]
  },
  {
   "cell_type": "code",
   "execution_count": 4,
   "id": "1c5943dd",
   "metadata": {},
   "outputs": [
    {
     "data": {
      "text/plain": [
       "False"
      ]
     },
     "execution_count": 4,
     "metadata": {},
     "output_type": "execute_result"
    }
   ],
   "source": [
    "'abc' < \"abc\""
   ]
  },
  {
   "cell_type": "code",
   "execution_count": 5,
   "id": "8ed986d2",
   "metadata": {},
   "outputs": [
    {
     "data": {
      "text/plain": [
       "3"
      ]
     },
     "execution_count": 5,
     "metadata": {},
     "output_type": "execute_result"
    }
   ],
   "source": [
    "len(\"abc\")"
   ]
  },
  {
   "cell_type": "code",
   "execution_count": 11,
   "id": "708b35f9",
   "metadata": {},
   "outputs": [
    {
     "name": "stdout",
     "output_type": "stream",
     "text": [
      "1st line\n",
      " 2nd line\n",
      " 3rd line\n"
     ]
    }
   ],
   "source": [
    "print('1st line\\n','2nd line\\n','3rd line')"
   ]
  },
  {
   "cell_type": "code",
   "execution_count": 15,
   "id": "a19e033d",
   "metadata": {},
   "outputs": [],
   "source": [
    "#s\n"
   ]
  },
  {
   "cell_type": "code",
   "execution_count": 29,
   "id": "3a1ade22",
   "metadata": {},
   "outputs": [
    {
     "data": {
      "text/plain": [
       "False"
      ]
     },
     "execution_count": 29,
     "metadata": {},
     "output_type": "execute_result"
    }
   ],
   "source": [
    "\"239\" < \"30\" and 239 < 30"
   ]
  },
  {
   "cell_type": "code",
   "execution_count": 18,
   "id": "f8dba966",
   "metadata": {},
   "outputs": [
    {
     "data": {
      "text/plain": [
       "True"
      ]
     },
     "execution_count": 18,
     "metadata": {},
     "output_type": "execute_result"
    }
   ],
   "source": [
    "\"239\" < \"30\" and 239 > 30"
   ]
  },
  {
   "cell_type": "code",
   "execution_count": 19,
   "id": "bc008bb8",
   "metadata": {},
   "outputs": [
    {
     "data": {
      "text/plain": [
       "False"
      ]
     },
     "execution_count": 19,
     "metadata": {},
     "output_type": "execute_result"
    }
   ],
   "source": [
    "\"239\" > \"30\" and 239 < 30"
   ]
  },
  {
   "cell_type": "code",
   "execution_count": 20,
   "id": "a8cd8356",
   "metadata": {},
   "outputs": [
    {
     "data": {
      "text/plain": [
       "False"
      ]
     },
     "execution_count": 20,
     "metadata": {},
     "output_type": "execute_result"
    }
   ],
   "source": [
    "\"239\" > \"30\" and 239 > 30"
   ]
  },
  {
   "cell_type": "code",
   "execution_count": 31,
   "id": "acb8a822",
   "metadata": {},
   "outputs": [
    {
     "name": "stdout",
     "output_type": "stream",
     "text": [
      "string another string\n"
     ]
    }
   ],
   "source": [
    "a = 'string'\n",
    "b = 'another string'\n",
    "print (a,b)"
   ]
  },
  {
   "cell_type": "code",
   "execution_count": 33,
   "id": "f8209ff3",
   "metadata": {},
   "outputs": [
    {
     "name": "stdout",
     "output_type": "stream",
     "text": [
      "stringanother string\n"
     ]
    }
   ],
   "source": [
    "print (a+b)"
   ]
  },
  {
   "cell_type": "code",
   "execution_count": 35,
   "id": "ecc509a6",
   "metadata": {},
   "outputs": [
    {
     "name": "stdout",
     "output_type": "stream",
     "text": [
      "string\n",
      "another string\n"
     ]
    }
   ],
   "source": [
    "print(a)\n",
    "print(b)"
   ]
  },
  {
   "cell_type": "code",
   "execution_count": 38,
   "id": "228dd97a",
   "metadata": {},
   "outputs": [
    {
     "name": "stdout",
     "output_type": "stream",
     "text": [
      "string\n",
      "another string\n",
      "string\n",
      "another string\n"
     ]
    }
   ],
   "source": [
    "print (a+\"\\n\"+b) #print different lines\n",
    "\"\"\"\n",
    "multiline comment\n",
    "\"\"\"\n",
    "print (a+\"\\n\"+b) #print different lines"
   ]
  },
  {
   "cell_type": "code",
   "execution_count": 39,
   "id": "2df7d7c7",
   "metadata": {},
   "outputs": [
    {
     "data": {
      "text/plain": [
       "'12342'"
      ]
     },
     "execution_count": 39,
     "metadata": {},
     "output_type": "execute_result"
    }
   ],
   "source": [
    "\"123\" + \"42\""
   ]
  },
  {
   "cell_type": "code",
   "execution_count": 41,
   "id": "58785035",
   "metadata": {},
   "outputs": [
    {
     "name": "stdout",
     "output_type": "stream",
     "text": [
      "side a: 3\n",
      "side b: 4\n",
      "side c: 5\n",
      "6.0\n"
     ]
    }
   ],
   "source": [
    "a=int(input())\n",
    "b=int(input())\n",
    "c=int(input())\n",
    "p=(a+b+c)/2\n",
    "s=(p*(p-a)*(p-b)*(p-c))**0.5\n",
    "print (s)"
   ]
  },
  {
   "cell_type": "code",
   "execution_count": 6,
   "id": "bda639da",
   "metadata": {},
   "outputs": [
    {
     "name": "stdout",
     "output_type": "stream",
     "text": [
      "-7\n",
      "True\n"
     ]
    }
   ],
   "source": [
    "a=int(input())\n",
    "if (-15) < a <=12:\n",
    "    print (True)\n",
    "elif 14 < a < 17:\n",
    "    print (True)\n",
    "elif a>=19:\n",
    "    print (True)\n",
    "else:\n",
    "    print (False)\n"
   ]
  },
  {
   "cell_type": "code",
   "execution_count": 6,
   "id": "b9dc3869",
   "metadata": {},
   "outputs": [
    {
     "name": "stdout",
     "output_type": "stream",
     "text": [
      "5\n",
      "10\n",
      "/\n",
      "0.5\n"
     ]
    }
   ],
   "source": [
    "a=float(input())\n",
    "b=float(input())\n",
    "c=str(input())\n",
    "\n",
    "if c=='+':\n",
    "    print (a+b)\n",
    "elif c==\"-\":\n",
    "    print (a-b)\n",
    "elif c==\"*\":\n",
    "    print (a*b)\n",
    "elif c==\"/\":\n",
    "    if b==0:\n",
    "        print(\"Деление на 0!\")\n",
    "    else:\n",
    "        print (a/b)\n",
    "elif c==\"mod\":\n",
    "    if b==0:\n",
    "        print(\"Деление на 0!\")\n",
    "    else:\n",
    "        print (a%b)\n",
    "elif c==\"div\":\n",
    "    if b==0:\n",
    "        print(\"Деление на 0!\")\n",
    "    else:\n",
    "        print (a//b)\n",
    "elif c==\"pow\":\n",
    "    print (a**b)\n",
    "\n",
    "else:\n",
    "    print('Something went wrong')"
   ]
  },
  {
   "cell_type": "code",
   "execution_count": 12,
   "id": "79063cb2",
   "metadata": {},
   "outputs": [
    {
     "name": "stdout",
     "output_type": "stream",
     "text": [
      "треугольник\n",
      "3\n",
      "4\n",
      "5\n",
      "6.0\n"
     ]
    }
   ],
   "source": [
    "pi=3.14\n",
    "figure=str(input())\n",
    "if figure==\"треугольник\":\n",
    "    a = float(input())\n",
    "    b = float(input())\n",
    "    c = float(input())\n",
    "    p=(a+b+c)/2\n",
    "    print ((p*(p-a)*(p-b)*(p-c))**0.5)\n",
    "elif figure==\"прямоугольник\":\n",
    "    a = float(input())\n",
    "    b = float(input())\n",
    "    print (a*b)\n",
    "elif figure==\"круг\":\n",
    "    a = float(input())\n",
    "    print (pi*(a**2))\n",
    "else:\n",
    "    print (\"Нет такой фигуры\")\n",
    "\n",
    "    \n",
    "\n",
    "    "
   ]
  },
  {
   "cell_type": "code",
   "execution_count": 8,
   "id": "841a819b",
   "metadata": {
    "scrolled": true
   },
   "outputs": [
    {
     "name": "stdout",
     "output_type": "stream",
     "text": [
      "-8\n",
      "-10\n",
      "-13\n",
      "-8\n",
      "-13\n",
      "-10\n"
     ]
    }
   ],
   "source": [
    "a,b,c = int(input()), int(input()), int(input())\n",
    "\n",
    "if a < b:\n",
    "    a, b = b, a\n",
    "if a < c:\n",
    "    a, c = c, a\n",
    "if b > c:\n",
    "b, c = c, b\n",
    "print(a)\n",
    "print(b)\n",
    "print(c)"
   ]
  },
  {
   "cell_type": "code",
   "execution_count": null,
   "id": "7d2714ba",
   "metadata": {},
   "outputs": [],
   "source": [
    "a = int(input())\n",
    "if a%10==1 and a%100!=11 and a%100!=12 and a%100!=13 and a%100!=14:\n",
    "    print(a,\"программист\")\n",
    "elif  1<a%10<=4 and a%100!=12 and a%100!=12 and a%100!=13 and a%100!=14:\n",
    "    print(a,\"программиста\")\n",
    "else:\n",
    "    print (a,\"программистов\")\n"
   ]
  },
  {
   "cell_type": "code",
   "execution_count": null,
   "id": "66d491bd",
   "metadata": {},
   "outputs": [],
   "source": [
    "a = str(input())\n",
    "a_list=list(a)\n",
    "sum_1 = int(a_list[0]) + int(a_list[1]) + int(a_list[2])\n",
    "sum_2 = int(a_list[3]) + int(a_list[4]) + int(a_list[5])\n",
    "if sum_1==sum_2:\n",
    "    print(\"Счастливый\")\n",
    "else:\n",
    "    print(\"Обычный\")"
   ]
  },
  {
   "cell_type": "code",
   "execution_count": 10,
   "id": "56c95101",
   "metadata": {},
   "outputs": [
    {
     "name": "stdout",
     "output_type": "stream",
     "text": [
      "123456\n",
      "Обычный\n"
     ]
    }
   ],
   "source": [
    "a = int(input())\n",
    "a6 = int(a%10)\n",
    "a5 = int((a%100 - a6)/10)\n",
    "a4 = int((a%1000 - a5)/100)\n",
    "a3 = int((a%10000 - a4)/1000)\n",
    "a2 = int((a%100000 - a3)/10000)\n",
    "a1 = a//100000\n",
    "\n",
    "if (a1+a2+a3) == (a4+a5+a6):\n",
    "    print(\"Счастливый\")\n",
    "else:\n",
    "    print(\"Обычный\")\n"
   ]
  },
  {
   "cell_type": "code",
   "execution_count": null,
   "id": "f7dc77a2",
   "metadata": {},
   "outputs": [],
   "source": []
  }
 ],
 "metadata": {
  "kernelspec": {
   "display_name": "Python 3 (ipykernel)",
   "language": "python",
   "name": "python3"
  },
  "language_info": {
   "codemirror_mode": {
    "name": "ipython",
    "version": 3
   },
   "file_extension": ".py",
   "mimetype": "text/x-python",
   "name": "python",
   "nbconvert_exporter": "python",
   "pygments_lexer": "ipython3",
   "version": "3.10.1"
  }
 },
 "nbformat": 4,
 "nbformat_minor": 5
}
