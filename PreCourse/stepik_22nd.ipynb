{
 "cells": [
  {
   "cell_type": "markdown",
   "metadata": {},
   "source": [
    "# Циклы. Строки. Списки"
   ]
  },
  {
   "cell_type": "code",
   "execution_count": null,
   "metadata": {},
   "outputs": [],
   "source": [
    "a=int(input())\n",
    "\n",
    "outMtrx = [[0 for j in range(a)] for i in range(a)]\n",
    "\n",
    "outMtrx[0][0]=1\n",
    "outMtrx[a//2][a//2]=a*a\n",
    "\n",
    "for i in range(a):\n",
    "    for j in range(a):\n",
    "        print(outMtrx[i][j],end=\"\\t\")\n",
    "    print()\n",
    "\n",
    "i=0\n",
    "j=0\n",
    "m=0\n",
    "size=a\n",
    "count=0\n",
    "\n",
    "if i==m and j==m:\n",
    "            for j in range(size):\n",
    "                count+=1\n",
    "                outMtrx[i][j]=count\n",
    "            print(\"st1\",i,j,*outMtrx)\n",
    "elif j==size-1 and i==m:\n",
    "            for i in range(m+1,size):\n",
    "                count+=1\n",
    "                outMtrx[i][j]=count\n",
    "            print(\"st2\",i,j,*outMtrx)\n",
    "            m-=1\n",
    "elif j==size-1 and i==size-1:\n",
    "            for j in reversed(range(-size,m)):\n",
    "                count+=1 \n",
    "                outMtrx[i][j]=count  \n",
    "            print(\"st3\",m,count,i,j,*outMtrx)\n",
    "elif j==-size and i==size+m:\n",
    "            for i in reversed(range(-size-m,m)):\n",
    "                count+=1\n",
    "                outMtrx[i][j]=count\n",
    "            print(\"st4\",count,i,j,*outMtrx)\n",
    "elif j==-size and i==-4:\n",
    "            size-=1\n",
    "            i=1\n",
    "            j=1\n",
    "            print(\"st?\",count,i,j,*outMtrx)\n",
    "\n",
    "\n",
    "    \n",
    "   \n",
    "#print\n",
    "for i in range(a):\n",
    "    for j in range(a):\n",
    "        print(outMtrx[i][j],end=\"\\t\")\n",
    "    print()\n",
    "\n",
    "\n"
   ]
  },
  {
   "cell_type": "code",
   "execution_count": null,
   "metadata": {},
   "outputs": [],
   "source": [
    "b=5\n",
    "for i in reversed(range(-5,0)):\n",
    "    print(i)"
   ]
  },
  {
   "cell_type": "code",
   "execution_count": null,
   "metadata": {},
   "outputs": [],
   "source": [
    "for i in range(size):\n",
    "    if i==m and j==m:\n",
    "        for j in range(size):\n",
    "            count+=1\n",
    "            outMtrx[i][j]=count\n",
    "            print(\"st1\",i,j,*outMtrx)\n",
    "        \n",
    "    if j==size-1 and i==m:\n",
    "        for i in range(1,5):\n",
    "            count+=1\n",
    "            outMtrx[i][j]=count\n",
    "            print(\"st2\",i,j,*outMtrx)\n",
    "    m-=1\n",
    "    if j==size-1 and i==size-1:\n",
    "        for j in reversed(range(-size,m)):\n",
    "            count+=1 \n",
    "            outMtrx[i][j]=count  \n",
    "            print(\"st3\",m,count,i,j,*outMtrx)\n",
    "\n",
    "    if j==-size and i==size+m:\n",
    "        for i in reversed(range(-size-m,m)):\n",
    "            count+=1\n",
    "            outMtrx[i][j]=count\n",
    "            print(\"st4\",count,i,j,*outMtrx)\n",
    "    size-=1\n",
    "    i+=1\n",
    "    continue"
   ]
  },
  {
   "cell_type": "code",
   "execution_count": null,
   "metadata": {},
   "outputs": [],
   "source": [
    "size=5\n",
    "a = [[0 for j in range(size)] for i in range(size)]\n",
    "\n",
    "cont=0\n",
    "num=0\n",
    "\n",
    "for cont in range(size//2):\n",
    "    i=cont\n",
    "    for j in range(cont,size-1-cont):\n",
    "        num+=1\n",
    "        a[i][j]=num\n",
    "    for i in range(size):\n",
    "        for j in range(size):\n",
    "            print(a[i][j],end=\" \")\n",
    "        print()\n",
    "    j=size-1-cont\n",
    "    for i in range(cont,size-1-cont):\n",
    "        num+=1\n",
    "        a[i][j]=num\n",
    "    for i in range(size):\n",
    "        for j in range(size):\n",
    "            print(a[i][j],end=\" \")\n",
    "        print()\n",
    "    i=size-1-cont\n",
    "    for j in range(size-1-cont,cont,-1):\n",
    "        num+=1\n",
    "        a[i][j]=num\n",
    "    for i in range(size):\n",
    "        for j in range(size):\n",
    "            print(a[i][j],end=\" \")\n",
    "        print()\n",
    "    j=cont\n",
    "    for i in range(size-1-cont,cont,-1):\n",
    "        num+=1\n",
    "        a[i][j]=num\n",
    "    for i in range(size):\n",
    "        for j in range(size):\n",
    "            print(a[i][j],end=\" \")\n",
    "        print()\n",
    "if size%2==1:\n",
    "    a[size//2][size//2]=size**2\n",
    "\n",
    "for i in range(size):\n",
    "    for j in range(size):\n",
    "        print(a[i][j],end=\" \")\n",
    "    print()\n",
    "\n",
    "  "
   ]
  },
  {
   "cell_type": "code",
   "execution_count": null,
   "metadata": {},
   "outputs": [],
   "source": [
    "n = int(input())\n",
    "matrix = [[0] * n for i in range(n)]\n",
    "vx, vy = [0, 1, 0, -1], [1, 0, -1, 0]\n",
    "x, y, z = 0, -1, 1\n",
    "for i in range(n + n - 1):\n",
    "    for j in range((n + n - i) // 2):\n",
    "        x += vx[i % 4]\n",
    "        y += vy[i % 4]\n",
    "        matrix[x][y] = z\n",
    "        z += 1\n",
    "for i in range(len(matrix)):\n",
    "    for j in range(len(matrix[i])):\n",
    "        print(str(matrix[i][j]).ljust(3), end='')  \n",
    "    print() "
   ]
  },
  {
   "cell_type": "code",
   "execution_count": null,
   "metadata": {},
   "outputs": [],
   "source": [
    "i=5\n",
    "j=10\n",
    "def min2(a,b):\n",
    "    if a<=b:\n",
    "        return a\n",
    "    else:\n",
    "        return b\n",
    "\n",
    "min(a,b)"
   ]
  },
  {
   "cell_type": "code",
   "execution_count": null,
   "metadata": {},
   "outputs": [],
   "source": [
    "def f(n):\n",
    "    return n * 10 + 5\n",
    "\n",
    "f(f(f(10)))\n"
   ]
  },
  {
   "cell_type": "code",
   "execution_count": null,
   "metadata": {},
   "outputs": [],
   "source": [
    "a=float(input())\n",
    "\n",
    "def f(x):\n",
    "    if x<=-2:\n",
    "        y=1-(x+2)**2\n",
    "    elif -2<x<=2:\n",
    "        y=-(x/2)\n",
    "    elif x>2:\n",
    "        y=(x-2)**2+1\n",
    "    return y\n",
    "\n",
    "f(a)\n"
   ]
  },
  {
   "cell_type": "code",
   "execution_count": null,
   "metadata": {},
   "outputs": [],
   "source": [
    "lst=[1, 2, 3, 3, 5, 4, 5, 7, 6,6,0]\n",
    "\n",
    "#for i in range(len(lst)-1,0,-1):\n",
    "#        print(lst[i])\n",
    "\n",
    "\n",
    "#print(*lst)\n",
    "\n",
    "def modify_list(l):\n",
    "    for i in range(len(l)-1,-1,-1):\n",
    "        if l[i]%2==1 and l[i]!=0:\n",
    "            del l[i]\n",
    "    for i in range(len(l)):\n",
    "        l[i]=l[i]//2\n",
    "    return l\n",
    "\n",
    "\n",
    "print(modify_list(lst))\n",
    "\n",
    "\n"
   ]
  },
  {
   "cell_type": "code",
   "execution_count": null,
   "metadata": {},
   "outputs": [],
   "source": [
    "s=set()\n",
    "\n",
    "basket={'apple','banana','orange'}\n",
    "print(basket)\n",
    "\n",
    "'orange' in basket\n",
    "'tomato' in basket\n",
    "\n",
    "basket.add('tomato')\n",
    "print(basket)\n",
    "\n",
    "basket.remove('tomato')\n",
    "print(basket)\n",
    "\n",
    "basket.add('tomato')\n",
    "basket.discard('tomato') # не выдаст ошибки\n",
    "#basket.remove('tomato') #\n",
    "print(basket)\n",
    "\n",
    "basket.clear()\n",
    "print(basket)"
   ]
  },
  {
   "cell_type": "code",
   "execution_count": null,
   "metadata": {},
   "outputs": [],
   "source": [
    "basket={'apple','banana','orange'}\n",
    "\n",
    "for x in basket:\n",
    "    print(x)"
   ]
  },
  {
   "cell_type": "code",
   "execution_count": null,
   "metadata": {},
   "outputs": [],
   "source": [
    "d={'a':239, 10:100}\n",
    "print(d['a'])\n",
    "print(d[10])"
   ]
  },
  {
   "cell_type": "code",
   "execution_count": null,
   "metadata": {},
   "outputs": [],
   "source": [
    "\n",
    "{}"
   ]
  },
  {
   "cell_type": "code",
   "execution_count": null,
   "metadata": {},
   "outputs": [],
   "source": [
    "customer = {'name': 'Alexey', 'country': ''}\n",
    "customer.update({'age': 26, 'country':'Russia'})\n",
    "\n",
    "if customer['country'] == 'Russia' and customer['age'] >= 18:\n",
    "    print('Hello, ' + customer['name'] + '!')"
   ]
  },
  {
   "cell_type": "code",
   "execution_count": null,
   "metadata": {},
   "outputs": [],
   "source": [
    "d={}\n",
    "\"a\" in d\n",
    "\"a\" not in d\n",
    "d[1]=26\n",
    "print(d)\n",
    "if 1 in d: print(\"+\")\n",
    "#d[''] #ошибка, если нет ключа\n",
    "d.get('') #нет ошибки\n",
    "#del d['age']\n",
    "print(d.get(1)) #нет ошибки"
   ]
  },
  {
   "cell_type": "code",
   "execution_count": null,
   "metadata": {},
   "outputs": [],
   "source": [
    "d={}\n",
    "\n",
    "def update_dictionary(d, key, value):\n",
    "    if d.get(key):\n",
    "        d[key]+=value\n",
    "    else:\n",
    "        key=2*key\n",
    "        d[key]+=[value]\n",
    "\n",
    "update_dictionary(1,2,3)"
   ]
  },
  {
   "cell_type": "code",
   "execution_count": null,
   "metadata": {},
   "outputs": [],
   "source": [
    "d={}\n",
    "\n",
    "\n",
    "\n",
    "def update_dictionary(d, key, value):\n",
    "    if key in d:\n",
    "        d[key]+=[value]\n",
    "    else:\n",
    "        key=2*key\n",
    "        if key not in d:\n",
    "            d.update({key:[value]})\n",
    "        else:\n",
    "            d[key]+=[value]\n",
    "        \n",
    "\n",
    "print(update_dictionary(d, 1, -1))  # None\n",
    "print(d)                            # {2: [-1]}\n",
    "update_dictionary(d, 2, -2)\n",
    "print(d)                            # {2: [-1, -2]}\n",
    "update_dictionary(d, 1, -3)\n",
    "print(d)                       \n"
   ]
  },
  {
   "cell_type": "code",
   "execution_count": null,
   "metadata": {},
   "outputs": [],
   "source": [
    "s = input().lower().split()\n",
    "d={}\n",
    "for key in s:\n",
    "    if key in d:\n",
    "        d[key]+=1\n",
    "    else:\n",
    "        d.update({key:+1})\n",
    "\n",
    "for key in d:\n",
    "    print(key,d[key])\n",
    "\n"
   ]
  },
  {
   "cell_type": "code",
   "execution_count": null,
   "metadata": {},
   "outputs": [],
   "source": [
    "num=int(input())\n",
    "d={}\n",
    "s=[]\n",
    "def f(x):\n",
    "    x=2*x\n",
    "    return x\n",
    "for i in range(num):\n",
    "    s+=[int(input())]\n",
    "    key=s[i]\n",
    "    if key not in d:\n",
    "        d.update({key:f(key)})\n",
    "for i in s:\n",
    "    print(d[i])\n"
   ]
  },
  {
   "cell_type": "code",
   "execution_count": null,
   "metadata": {},
   "outputs": [],
   "source": [
    "5\n",
    "5\n",
    "12\n",
    "9\n",
    "20\n",
    "12"
   ]
  },
  {
   "cell_type": "code",
   "execution_count": null,
   "metadata": {},
   "outputs": [],
   "source": [
    "inf = open('filee.txt','r') #чтение\n",
    "s1 = inf.readline()\n",
    "s2 = inf.readline()\n",
    "inf.close\n",
    "print(s1,s2)"
   ]
  },
  {
   "cell_type": "code",
   "execution_count": null,
   "metadata": {},
   "outputs": [],
   "source": [
    "with open('filee.txt') as inf:\n",
    "    s1 = inf.readline()\n",
    "    s2 = inf.readline()\n",
    "\n",
    "print(s1.strip(),s2.strip())\n"
   ]
  },
  {
   "cell_type": "code",
   "execution_count": null,
   "metadata": {},
   "outputs": [],
   "source": [
    "import os\n",
    "os.path.join('.','dirname','filee.txt')"
   ]
  },
  {
   "cell_type": "code",
   "execution_count": null,
   "metadata": {},
   "outputs": [],
   "source": [
    "with open('filee.txt') as inf:\n",
    "    for line in inf:\n",
    "        line=line.strip()\n",
    "        print(line)"
   ]
  },
  {
   "cell_type": "code",
   "execution_count": null,
   "metadata": {},
   "outputs": [],
   "source": [
    "with open('filee.txt','w') as ouf:\n",
    "    ouf.write('Some text\\n')\n",
    "    ouf.write(str(25))\n"
   ]
  },
  {
   "cell_type": "code",
   "execution_count": null,
   "metadata": {},
   "outputs": [],
   "source": [
    "s=input()\n",
    "k=1\n",
    "s=s+\"0\"\n",
    "print(s)\n",
    "for j in range(0,len(s)-1):\n",
    "    if s[j]==s[j+1]:\n",
    "        k+=1\n",
    "    else:\n",
    "        print(s[j]+str(k),end=\"\")\n",
    "        k=1"
   ]
  },
  {
   "cell_type": "code",
   "execution_count": null,
   "metadata": {},
   "outputs": [],
   "source": [
    "with open('dataset_3363_2.txt','r') as inf:\n",
    "    for line in inf:\n",
    "        line=line.strip()\n",
    "cstr=\"\"\n",
    "cntstr=\"\"\n",
    "print(line)\n",
    "for i in range(1,len(line)):\n",
    "    if line[i].isdigit() is True:\n",
    "        if line[i-1].isdigit():\n",
    "            cntstr+=line[i-1]+line[i]\n",
    "            if int(cntstr)<20:\n",
    "                cstr+=line[i-2]*(int(cntstr)-1)\n",
    "                #print(cntstr, line[i-2], str)\n",
    "                cntstr=\"\"\n",
    "            else:\n",
    "                cstr+=line[i-2]*(int(cntstr)-2)\n",
    "                #print(cntstr, line[i-2], str)\n",
    "                cntstr=\"\"\n",
    "            #print(line[i],i,str,cntstr)\n",
    "        else:\n",
    "            cstr+=line[i-1]*int(line[i])\n",
    "            #print(i,str)\n",
    "\n",
    "print(cstr[0:])\n",
    "\n",
    "with open('reply.txt','w') as ouf:\n",
    "    ouf.write(cstr[0:])\n"
   ]
  },
  {
   "cell_type": "code",
   "execution_count": null,
   "metadata": {},
   "outputs": [],
   "source": [
    "\"U\"*20"
   ]
  },
  {
   "cell_type": "code",
   "execution_count": null,
   "metadata": {},
   "outputs": [],
   "source": [
    "line=\"\"\n",
    "word=\"\"\n",
    "list=[]\n",
    "\n",
    "with open('dataset_3363_3.txt','r') as inf:\n",
    "    for i in inf:\n",
    "        line+=i.strip()\n",
    "line+=\" \"\n",
    "\n",
    "for i in range(len(line)):\n",
    "    if line[i]!=\" \":\n",
    "        word+=line[i]\n",
    "    else:\n",
    "        list+=[word.lower()]\n",
    "        word=\"\"\n",
    "\n",
    "d={}\n",
    "for key in list:\n",
    "    if key in d:\n",
    "        d[key]+=1\n",
    "    else:\n",
    "        d.update({key:+1})\n",
    "\n",
    "max_val=max(d.values())\n",
    "final = {k:v for k, v in d.items() if v == max_val}\n",
    "\n",
    "for k in final:\n",
    "    print(k,final[k])\n",
    "\n"
   ]
  },
  {
   "cell_type": "markdown",
   "metadata": {},
   "source": []
  },
  {
   "cell_type": "code",
   "execution_count": null,
   "metadata": {},
   "outputs": [],
   "source": [
    "line=\"\"\n",
    "word=\"\"\n",
    "list=[]\n",
    "d={}\n",
    "with open('dataset_3363_4.txt','r') as inf:\n",
    "    for i in inf:\n",
    "        list+=[i.strip()]\n",
    "\n",
    "#print(list)\n",
    "\n",
    "tmpList=[]\n",
    "for i in list:\n",
    "    tmpList+=[i.split(\";\")]\n",
    "\n",
    "list=tmpList\n",
    "#print(list)\n",
    "s=\"\"\n",
    "a=0\n",
    "\n",
    "for i in range(len(list)):\n",
    "    #print(list[i][0],end=\" \")\n",
    "    #print((int(list[i][1])+int(list[i][2])+int(list[i][3]))/3)\n",
    "    a=(int(list[i][1])+int(list[i][2])+int(list[i][3]))/3\n",
    "    a=str(a)\n",
    "    s=a+\"\\n\"\n",
    "    print(s)\n",
    "    with open('reply.txt','a') as ouf:\n",
    "        ouf.write(s)\n",
    "\n",
    "math=0\n",
    "phys=0\n",
    "rus=0\n",
    "for i in range(len(list)):\n",
    "    math+=int(list[i][1])\n",
    "    phys+=int(list[i][2])\n",
    "    rus+=int(list[i][3])\n",
    "\n",
    "math=math/len(list)\n",
    "phys=phys/len(list)\n",
    "rus=rus/len(list)\n",
    "s=str(math)+\" \"+str(phys)+\" \"+str(rus)\n",
    "with open('reply.txt','a') as ouf:\n",
    "        ouf.write(s)\n",
    "print(math, phys, rus)    \n",
    "\n",
    "\n",
    "\n",
    "'''\n",
    "for i in range(len(line)):\n",
    "    if line[i]!=\" \":\n",
    "        word+=line[i]\n",
    "    else:\n",
    "        list+=[word.lower()]\n",
    "        word=\"\"\n",
    "\n",
    "d={}\n",
    "for key in list:\n",
    "    if key in d:\n",
    "        d[key]+=1\n",
    "    else:\n",
    "        d.update({key:+1})\n",
    "'''"
   ]
  },
  {
   "cell_type": "code",
   "execution_count": null,
   "metadata": {},
   "outputs": [],
   "source": [
    "subprocess.call(['python','-h'])"
   ]
  },
  {
   "cell_type": "code",
   "execution_count": null,
   "metadata": {},
   "outputs": [],
   "source": [
    "from math import pi\n",
    "\n",
    "r=float(input())\n",
    "\n",
    "print(2*pi*r)\n",
    "\n",
    "\n",
    "\n"
   ]
  },
  {
   "cell_type": "code",
   "execution_count": null,
   "metadata": {},
   "outputs": [],
   "source": [
    "import sys\n",
    "\n",
    "print(len(sys.argv))"
   ]
  },
  {
   "cell_type": "code",
   "execution_count": null,
   "metadata": {},
   "outputs": [],
   "source": [
    "import sys\n",
    "\n",
    "print(*sys.argv[1:])"
   ]
  },
  {
   "cell_type": "code",
   "execution_count": null,
   "metadata": {},
   "outputs": [],
   "source": [
    "import requests\n",
    "r=requests.get('https://stepic.org/media/attachments/course67/3.6.2/026.txt')\n",
    "print(r.text)\n",
    "list=[]\n",
    "for i in r.text.splitlines():\n",
    "    list+=[i]\n",
    "print(len(list))\n",
    "\n"
   ]
  },
  {
   "cell_type": "code",
   "execution_count": null,
   "metadata": {},
   "outputs": [],
   "source": [
    "import requests\n",
    "urlStr='https://stepic.org/media/attachments/course67/3.6.3/'\n",
    "with open('dataset_3378_3.txt','r') as inf:\n",
    "    for line in inf:\n",
    "        line=line.strip()\n",
    "print(line)\n",
    "r=requests.get(line)\n",
    "line=r.text\n",
    "\n",
    "while True:\n",
    "    tmpStr=urlStr+line\n",
    "    r=requests.get(tmpStr)\n",
    "    line=r.text\n",
    "    print(line)\n",
    "\n"
   ]
  },
  {
   "cell_type": "markdown",
   "metadata": {},
   "source": [
    "Напишите программу, которая принимает на стандартный вход список игр футбольных команд с результатом матча и выводит на стандартный вывод сводную таблицу результатов всех матчей.\n",
    "\n",
    "За победу команде начисляется 3 очка, за поражение — 0, за ничью — 1.\n",
    "\n",
    "Формат ввода следующий:\n",
    "В первой строке указано целое число nn — количество завершенных игр.\n",
    "После этого идет nn строк, в которых записаны результаты игры в следующем формате:\n",
    "Первая_команда;Забито_первой_командой;Вторая_команда;Забито_второй_командой\n",
    "\n",
    "Вывод программы необходимо оформить следующим образом:\n",
    "Команда:Всего_игр Побед Ничьих Поражений Всего_очков\n",
    "\n",
    "Конкретный пример ввода-вывода приведён ниже.\n",
    "\n",
    "Порядок вывода команд произвольный.\n",
    "\n",
    "Sample Input:\n",
    "\n",
    "3\n",
    "Спартак;9;Зенит;10\n",
    "Локомотив;12;Зенит;3\n",
    "Спартак;8;Локомотив;15\n",
    "Sample Output:\n",
    "\n",
    "Спартак:2 0 0 2 0\n",
    "Зенит:2 1 0 1 3\n",
    "Локомотив:2 2 0 0 6"
   ]
  },
  {
   "cell_type": "code",
   "execution_count": null,
   "metadata": {},
   "outputs": [],
   "source": [
    "#tstStr=\"Спартак;9;Зенит;10\\nЛокомотив;12;Зенит;3\\nСпартак;8;Локомотив;15\\nЗаря 1;1;Заря 2;2\"\n",
    "a=int(input())\n",
    "gmList=[]\n",
    "gmScore=[]\n",
    "for i in range(a):\n",
    "    gmScore+=[input()]\n",
    "\n",
    "for i in gmScore:     \n",
    "        gmList+=[i.split(\";\")]\n",
    "\n",
    "#print(gmList)\n",
    "d={}\n",
    "for i in range(len(gmList)):\n",
    "    team1=gmList[i][0]\n",
    "    team2=gmList[i][2]\n",
    "    if team1 not in d:\n",
    "        d.update({team1:[0,0,0,0,0]})\n",
    "    if team2 not in d:\n",
    "        d.update({team2:[0,0,0,0,0]})\n",
    "    goalsTeam1=int(gmList[i][1])\n",
    "    goalsTeam2=int(gmList[i][3])\n",
    "    if goalsTeam1>goalsTeam2:\n",
    "        d.update({team1:[d[team1][0]+1,d[team1][1]+1,d[team1][2]+0,d[team1][3]+0,d[team1][4]+3]})\n",
    "        d.update({team2:[d[team2][0]+1,d[team2][1]+0,d[team2][2]+0,d[team2][3]+1,d[team2][4]+0]})\n",
    "    elif goalsTeam1<goalsTeam2:\n",
    "        d.update({team1:[d[team1][0]+1, d[team1][1]+0,d[team1][2]+0,d[team1][3]+1,d[team1][4]+0]})\n",
    "        d.update({team2:[d[team2][0]+1,d[team2][1]+1,d[team2][2]+0,d[team2][3]+0,d[team2][4]+3]})\n",
    "    else:\n",
    "        d.update({team1:[d[team1][0]+1, d[team1][1]+0, d[team1][2]+1,d[team1][3]+0,d[team1][4]+1]})\n",
    "        d.update({team2:[d[team2][0]+1, d[team2][1]+0, d[team2][2]+1,d[team2][3]+0,d[team2][4]+1]})\n",
    "\n",
    "for i in d:\n",
    "    print(i+\":\",end=\"\")\n",
    "    for j in range(len(d[i])):\n",
    "        print(d[i][j],end=\" \")\n",
    "    print()\n"
   ]
  },
  {
   "cell_type": "code",
   "execution_count": 8,
   "metadata": {},
   "outputs": [
    {
     "name": "stdout",
     "output_type": "stream",
     "text": [
      "*d*%*d*#*d*\n",
      "dacabac<built-in method items of dict object at 0x000002B8C9117200>\n"
     ]
    }
   ],
   "source": [
    "a=input()\n",
    "b=input()\n",
    "c=input()\n",
    "e=input()\n",
    "l1=[]\n",
    "l2=[]\n",
    "for i in range(len(a)):\n",
    "    l1+=a[i]\n",
    "for i in range(len(b)):\n",
    "    l2+=b[i]\n",
    "d={}\n",
    "\n",
    "d=dict(zip(l1,l2))\n",
    "\n",
    "def get_key(d, value):\n",
    "    for k, v in d.items():\n",
    "        if v == value:\n",
    "            return k\n",
    "\n",
    "for i in range(len(c)):\n",
    "    print(d[c[i]],end=\"\")\n",
    "print()\n",
    "for i in e:\n",
    "    print(get_key(d,i),end=\"\")\n",
    "\n",
    "\n",
    "print(d.items)"
   ]
  },
  {
   "cell_type": "markdown",
   "metadata": {},
   "source": [
    "abcd\n",
    "\n",
    "*d%#\n",
    "\n",
    "abacabadaba\n",
    "\n",
    "#*%*d*%"
   ]
  },
  {
   "cell_type": "code",
   "execution_count": 11,
   "metadata": {},
   "outputs": [
    {
     "name": "stdout",
     "output_type": "stream",
     "text": [
      "a *\n",
      "b d\n",
      "c %\n",
      "d #\n"
     ]
    }
   ],
   "source": [
    "for k,v in d.items():\n",
    "    print(k,v)"
   ]
  },
  {
   "cell_type": "markdown",
   "metadata": {},
   "source": [
    "print(d.items)"
   ]
  },
  {
   "cell_type": "code",
   "execution_count": 38,
   "metadata": {},
   "outputs": [
    {
     "name": "stdout",
     "output_type": "stream",
     "text": [
      "[['we', 'are', 'the', 'champignons'], ['we', 'are', 'the', 'champions'], ['stepic']]\n",
      "['the', 'champions', 'stepic', 'we', 'champignons', 'are']\n",
      "the\n",
      "stepic\n",
      "champignons\n"
     ]
    }
   ],
   "source": [
    "numWrd=int(input())\n",
    "wrdLst=[]\n",
    "tmpLst=[]\n",
    "strLst=[]\n",
    "for i in range(numWrd):\n",
    "    wrdLst+=[input().lower()]\n",
    "tmpLst=[]\n",
    "numStr=int(input())\n",
    "for i in range(numStr):\n",
    "    tmpLst+=[input().lower().split()]\n",
    "\n",
    "#print(tmpLst)\n",
    "\n",
    "for i in range(len(tmpLst)):\n",
    "    \n",
    "    if tmpLst[i] not in strLst:\n",
    "        strLst+=tmpLst[i]\n",
    "\n",
    "strLst=list(set(strLst))\n",
    "\n",
    "\n",
    "#print(wrdLst)\n",
    "#print(strLst)\n",
    "\n",
    "for i in strLst:\n",
    "    if i not in wrdLst:\n",
    "        print(i)\n",
    "\n",
    "\n",
    "\n",
    "\n",
    "\n"
   ]
  },
  {
   "cell_type": "code",
   "execution_count": 36,
   "metadata": {},
   "outputs": [
    {
     "ename": "SyntaxError",
     "evalue": "invalid syntax (2455974989.py, line 7)",
     "output_type": "error",
     "traceback": [
      "\u001b[1;36m  Input \u001b[1;32mIn [36]\u001b[1;36m\u001b[0m\n\u001b[1;33m    We are the champignons\u001b[0m\n\u001b[1;37m       ^\u001b[0m\n\u001b[1;31mSyntaxError\u001b[0m\u001b[1;31m:\u001b[0m invalid syntax\n"
     ]
    }
   ],
   "source": [
    "4\n",
    "champions\n",
    "we\n",
    "are\n",
    "Stepik\n",
    "3\n",
    "We are the champignons\n",
    "We Are The Champions\n",
    "Stepic"
   ]
  },
  {
   "cell_type": "code",
   "execution_count": null,
   "metadata": {},
   "outputs": [],
   "source": [
    "\n",
    "a=['champions', 'we', 'are', 'stepik']\n",
    "b=['we', 'are', 'the', 'champignons', 'we', 'are', 'the', 'champions', 'stepic']\n",
    "newLst=[]\n",
    "for i in range"
   ]
  }
 ],
 "metadata": {
  "interpreter": {
   "hash": "b89b5cfaba6639976dc87ff2fec6d58faec662063367e2c229c520fe71072417"
  },
  "kernelspec": {
   "display_name": "Python 3.10.1 64-bit",
   "language": "python",
   "name": "python3"
  },
  "language_info": {
   "codemirror_mode": {
    "name": "ipython",
    "version": 3
   },
   "file_extension": ".py",
   "mimetype": "text/x-python",
   "name": "python",
   "nbconvert_exporter": "python",
   "pygments_lexer": "ipython3",
   "version": "3.10.1"
  },
  "orig_nbformat": 4
 },
 "nbformat": 4,
 "nbformat_minor": 2
}
