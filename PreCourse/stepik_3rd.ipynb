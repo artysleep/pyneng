{
 "cells": [
  {
   "cell_type": "code",
   "execution_count": null,
   "metadata": {},
   "outputs": [],
   "source": [
    "2+2"
   ]
  },
  {
   "cell_type": "code",
   "execution_count": null,
   "metadata": {},
   "outputs": [],
   "source": [
    "i=2"
   ]
  },
  {
   "cell_type": "code",
   "execution_count": null,
   "metadata": {},
   "outputs": [],
   "source": [
    "for i in 2,3,5:\n",
    "    print(i**i)"
   ]
  },
  {
   "cell_type": "code",
   "execution_count": null,
   "metadata": {},
   "outputs": [],
   "source": [
    "for i in range(0,11,3):\n",
    "    print(i*i)"
   ]
  },
  {
   "cell_type": "code",
   "execution_count": null,
   "metadata": {},
   "outputs": [],
   "source": [
    "n=int(input())\n",
    "for i in range(n):\n",
    "    for j in range(n):\n",
    "        print('*',end=\"\")\n",
    "    print()"
   ]
  },
  {
   "cell_type": "code",
   "execution_count": null,
   "metadata": {},
   "outputs": [],
   "source": [
    "n=int(input())\n",
    "for i in range(n):\n",
    "    for j in range(n):\n",
    "        print('*',end=\"\")\n",
    "    print()"
   ]
  },
  {
   "cell_type": "code",
   "execution_count": null,
   "metadata": {},
   "outputs": [],
   "source": [
    "a=int(input())\n",
    "b=int(input())\n",
    "c=int(input())\n",
    "d=int(input())\n",
    "print(end=\"\\t\")\n",
    "for k in range (c,d+1):\n",
    "    print(k,end=\"\\t\")\n",
    "print()\n",
    "for i in range(a,b+1):\n",
    "    print (i,end=\"\\t\")\n",
    "    for j in range(c,d+1):\n",
    "       print (i*j, end=\"\\t\")\n",
    "    print ()"
   ]
  },
  {
   "cell_type": "code",
   "execution_count": null,
   "metadata": {},
   "outputs": [],
   "source": [
    "a,b = input().split()\n",
    "a=int(a)\n",
    "b=int(b)\n",
    "s=0\n",
    "for i in range(a,b+1):\n",
    "    if i%2==1:\n",
    "        s+=i\n",
    "print(s)"
   ]
  },
  {
   "cell_type": "code",
   "execution_count": null,
   "metadata": {},
   "outputs": [],
   "source": [
    "a,b = input().split()\n",
    "a=int(a)\n",
    "b=int(b)\n",
    "s=0\n",
    "if a%2==0:\n",
    "    a+=1\n",
    "for i in range(a,b+1,2):\n",
    "    s+=i\n",
    "print(s)"
   ]
  },
  {
   "cell_type": "code",
   "execution_count": null,
   "metadata": {},
   "outputs": [],
   "source": [
    "a,b = (int(i) for i in input().split())\n",
    "s=0\n",
    "if a%2==0:\n",
    "    a+=1\n",
    "for i in range(a,b+1,2):\n",
    "    s+=i\n",
    "print(s)"
   ]
  },
  {
   "cell_type": "code",
   "execution_count": null,
   "metadata": {},
   "outputs": [],
   "source": [
    "a=int(input())\n",
    "b=int(input())\n",
    "n=0\n",
    "s=0\n",
    "if a%3==1:\n",
    "    a+=1\n",
    "if a%3==2:\n",
    "    a+=1\n",
    "for i in range(a,b+1,3):\n",
    "    s+=i\n",
    "    n+=1\n",
    "print(s/n)"
   ]
  },
  {
   "cell_type": "code",
   "execution_count": null,
   "metadata": {},
   "outputs": [],
   "source": [
    "str=\"ABCDIFG\"\n",
    "for i in range(len(str)):\n",
    "    for j in range(len(str)):\n",
    "        print(str[j],end=\"\\t\")\n",
    "    print()"
   ]
  },
  {
   "cell_type": "code",
   "execution_count": null,
   "metadata": {},
   "outputs": [],
   "source": [
    "str=\"ABCDIFG\"\n",
    "for i in str:\n",
    "    for j in str:\n",
    "        print(j,end=\"\\t\")\n",
    "    print()\n",
    "    print(str.count(\"C\"))"
   ]
  },
  {
   "cell_type": "code",
   "execution_count": null,
   "metadata": {},
   "outputs": [],
   "source": [
    "s=input()\n",
    "g=s.lower().count(\"g\")\n",
    "c=s.lower().count(\"c\")\n",
    "print((g+c)/len(s)*100)"
   ]
  },
  {
   "cell_type": "code",
   "execution_count": null,
   "metadata": {},
   "outputs": [],
   "source": [
    "s = 'abcdefghijk'\n",
    "print(s[3:6],end=\" \")\n",
    "print(s[:6],end=\" \")\n",
    "print(s[3:],end=\" \")\n",
    "print(s[::-1],end=\" \")\n",
    "print(s[-3:],end=\" \")\n",
    "print(s[:-6],end=\" \")\n",
    "print(s[-1:-10:-2],end=\" \")"
   ]
  },
  {
   "cell_type": "code",
   "execution_count": 3,
   "metadata": {},
   "outputs": [
    {
     "name": "stdout",
     "output_type": "stream",
     "text": [
      "1 0 0\n",
      "2 0 0\n",
      "3 0 0\n",
      "0 1 0\n",
      "0 2 0\n",
      "0 3 0\n",
      "0 0 1\n",
      "0 0 2\n",
      "0 0 3\n",
      "b0c0b0c0b0c0a3c0a0c0a0c0a0b3a0b0a0b0\n"
     ]
    }
   ],
   "source": [
    "\n",
    "s=input()\n",
    "ka=0\n",
    "kb=0\n",
    "kc=0\n",
    "j=0\n",
    "oldString=s\n",
    "newString=\"\"\n",
    "\n",
    "for i in range(0,len(oldString)):\n",
    "    if oldString[i]==\"a\":\n",
    "        ka+=1\n",
    "    else:\n",
    "        newString=newString+\"a\"+str(ka)\n",
    "        ka=0\n",
    "    if oldString[i]==\"b\":\n",
    "        kb+=1\n",
    "    else:\n",
    "        newString=newString+\"b\"+str(kb)\n",
    "        kb=0\n",
    "    if oldString[i]==\"c\":\n",
    "        kc+=1\n",
    "    else:\n",
    "        newString=newString+\"c\"+str(kc)\n",
    "        kc=0\n",
    "    print(ka,kb,kc)\n",
    "    i+=1\n",
    "print(newString)\n",
    "\n",
    "\n",
    "\n"
   ]
  },
  {
   "cell_type": "code",
   "execution_count": null,
   "metadata": {},
   "outputs": [],
   "source": [
    "\"\"\"\n",
    "print(s.find(\"a\"))\n",
    "for i in s:\n",
    "    if i==\"a\":\n",
    "        ka+=1\n",
    "        kb=0\n",
    "        kc=0\n",
    "        s=s[j:]\n",
    "        newString=\"a\"+str(ka)\n",
    "        j+=1\n",
    "    if i==\"b\":\n",
    "        kb+=1\n",
    "        ka=0\n",
    "        kc=0\n",
    "        s=s[j:]\n",
    "        newString=\"b\"+str(kb)\n",
    "        j+=1\n",
    "    if i==\"c\":\n",
    "        ka=0\n",
    "        kb=0\n",
    "        kc+=1\n",
    "        newString=\"c\"+str(kc)\n",
    "        j+1\n",
    "print(newString)\n",
    "\"\"\""
   ]
  },
  {
   "cell_type": "code",
   "execution_count": 5,
   "metadata": {},
   "outputs": [
    {
     "name": "stdout",
     "output_type": "stream",
     "text": [
      "a3b3c3"
     ]
    }
   ],
   "source": [
    "a=input()\n",
    "s=1\n",
    "a=a+'0'\n",
    "for j in range (0,len(a)-1):\n",
    "    if a[j]==a[j+1]:\n",
    "        s+=1\n",
    "    else:\n",
    "        print((a[j]+str(s)),end='')\n",
    "        s=1"
   ]
  },
  {
   "cell_type": "code",
   "execution_count": 6,
   "metadata": {},
   "outputs": [
    {
     "name": "stdout",
     "output_type": "stream",
     "text": [
      "a2b2c3"
     ]
    }
   ],
   "source": [
    "s=input()\n",
    "k=1\n",
    "s=s+\"0\"\n",
    "for j in range(0,len(s)-1):\n",
    "    if s[j]==s[j+1]:\n",
    "        k+=1\n",
    "    else:\n",
    "        print(s[j]+str(k),end=\"\")\n",
    "        k=1"
   ]
  },
  {
   "cell_type": "code",
   "execution_count": 27,
   "metadata": {},
   "outputs": [
    {
     "name": "stdout",
     "output_type": "stream",
     "text": [
      "True\n",
      "Ann is out\n",
      "['Ivan', 'Masha', 'Sasha', 'Olga', 'O', 'l', 'g', 'a'] 2 ['Ivan', 'Masha', 'O', 'Olga', 'Sasha', 'a', 'g', 'l'] ['a', 'g', 'l', 'O', 'Olga', 'Sasha', 'Masha', 'Ivan']\n",
      "['Ivan', 'Masha', 'Sasha', 'Olga', 'O', 'l', 'g', 'a']\n",
      "a\n",
      "g\n",
      "l\n",
      "O\n",
      "Olga\n",
      "Sasha\n",
      "Masha\n",
      "Ivan\n"
     ]
    }
   ],
   "source": [
    "students = ['Ivan', 'Masha', 'Sasha']\n",
    "students += ['Olga']\n",
    "students += 'Olga'\n",
    "#students.remove('Sasha')\n",
    "#del students[0]\n",
    "\n",
    "if 'Ivan' in students:\n",
    "    print(\"True\")\n",
    "if 'Ann' not in students:\n",
    "    print(\"Ann is out\")\n",
    "\n",
    "ind=students.index('Sasha')\n",
    "ord_list=sorted(students)\n",
    "\n",
    "print(students,ind,ord_list,students[::-1])\n",
    "print(students)\n",
    "for i  in reversed(students):\n",
    "    print(i)\n",
    "\n",
    "\n"
   ]
  },
  {
   "cell_type": "code",
   "execution_count": 28,
   "metadata": {},
   "outputs": [
    {
     "name": "stdout",
     "output_type": "stream",
     "text": [
      "[1, 2, 3]\n",
      "[1, 10, 3]\n",
      "[20, 10, 3]\n",
      "[20, 10, 3]\n"
     ]
    }
   ],
   "source": [
    "a = [1, 2, 3]\n",
    "b = a\n",
    "print(b)\n",
    "# значения списка b?\n",
    "\n",
    "a[1] = 10\n",
    "print(b)\n",
    "# значения списка b?\n",
    "\n",
    "b[0] = 20\n",
    "print(a)\n",
    "# значения списка a?\n",
    "\n",
    "a = [5, 6]\n",
    "print(b)\n",
    "# значения списка b?"
   ]
  },
  {
   "cell_type": "code",
   "execution_count": 30,
   "metadata": {},
   "outputs": [
    {
     "name": "stdout",
     "output_type": "stream",
     "text": [
      "[0, 1, 4, 9, 16]\n"
     ]
    }
   ],
   "source": [
    "a=[i*i for i in range(5)]\n",
    "print (a)"
   ]
  },
  {
   "cell_type": "code",
   "execution_count": 31,
   "metadata": {},
   "outputs": [
    {
     "name": "stdout",
     "output_type": "stream",
     "text": [
      "[4, 5, 6, 7, 8, 9, 10]\n"
     ]
    }
   ],
   "source": [
    "a=[int(i) for i in input().split()]\n",
    "print (a)"
   ]
  },
  {
   "cell_type": "code",
   "execution_count": 37,
   "metadata": {},
   "outputs": [
    {
     "name": "stdout",
     "output_type": "stream",
     "text": [
      "15\n"
     ]
    }
   ],
   "source": [
    "a=[int(i) for i in input().split()]\n",
    "sum=0\n",
    "for k in a:\n",
    "    sum+=k\n",
    "print(sum)"
   ]
  },
  {
   "cell_type": "code",
   "execution_count": 17,
   "metadata": {},
   "outputs": [
    {
     "name": "stdout",
     "output_type": "stream",
     "text": [
      "8 9\n",
      "7 3 5 5 7 8 10 10 7\n"
     ]
    }
   ],
   "source": [
    "a=[int(i) for i in input().split()]\n",
    "newlist=[]\n",
    "for k in range(0,len(a)):\n",
    "    if len(a)==1:\n",
    "        newlist=a\n",
    "        break\n",
    "    elif k==0:\n",
    "        sum=a[1]+a[len(a)-1]\n",
    "    elif k==len(a)-1:\n",
    "        sum=a[len(a)-2]+a[0]\n",
    "    else:\n",
    "        sum=a[k-1]+a[k+1]\n",
    "    newlist+=[sum]\n",
    "print(*newlist)\n"
   ]
  },
  {
   "cell_type": "markdown",
   "metadata": {},
   "source": [
    "1 3 5 6 10\n",
    "13 6 9 15 7\n",
    "\n",
    "1 2 2 3 3 4 5 6 5"
   ]
  },
  {
   "cell_type": "code",
   "execution_count": 93,
   "metadata": {},
   "outputs": [
    {
     "name": "stdout",
     "output_type": "stream",
     "text": [
      "\n"
     ]
    }
   ],
   "source": [
    "a=[int(i) for i in input().split()]\n",
    "newList=[]\n",
    "a.sort()\n",
    "cnt=0\n",
    "for i in range(0,len(a)):\n",
    "    if i==0:\n",
    "        cnt+=1\n",
    "    else:\n",
    "        if a[i]!=a[i-1] or i==len(a)-1:\n",
    "            if cnt>1:\n",
    "                newList+=[a[i-1]]\n",
    "                cnt=1\n",
    "            elif i==len(a)-1:\n",
    "                if a[i]==a[i-1]:\n",
    "                    newList+=[a[i]]\n",
    "                else:\n",
    "                    continue\n",
    "        else:                \n",
    "            cnt+=1\n",
    "    print(a,a[i],cnt,i)\n",
    "print(*newList)"
   ]
  },
  {
   "cell_type": "code",
   "execution_count": 96,
   "metadata": {},
   "outputs": [
    {
     "name": "stdout",
     "output_type": "stream",
     "text": [
      "[1, 2, 3] [4, 5, 6] [7, 8, 9]\n"
     ]
    }
   ],
   "source": [
    "a = [[1,2,3],[4,5,6],[7,8,9]]\n",
    "print(*a)"
   ]
  },
  {
   "cell_type": "code",
   "execution_count": 98,
   "metadata": {},
   "outputs": [
    {
     "name": "stdout",
     "output_type": "stream",
     "text": [
      "[0, 0, 0] [0, 0, 0] [0, 0, 0]\n",
      "[5, 0, 0] [5, 0, 0] [5, 0, 0]\n"
     ]
    }
   ],
   "source": [
    "n=3\n",
    "a=[[0]*n]*n\n",
    "print(*a)\n",
    "a[0][0]=5\n",
    "print(*a)"
   ]
  },
  {
   "cell_type": "code",
   "execution_count": 99,
   "metadata": {},
   "outputs": [
    {
     "name": "stdout",
     "output_type": "stream",
     "text": [
      "[0, 0, 0] [0, 0, 0] [0, 0, 0]\n",
      "[0, 0, 0] [0, 0, 0] [0, 0, 0]\n"
     ]
    }
   ],
   "source": [
    "a=[[0]*n for i in range(n)]\n",
    "print(*a)\n",
    "a=[[0 for j in range(n)] for i in range(n)]\n",
    "print(*a)"
   ]
  },
  {
   "cell_type": "code",
   "execution_count": 113,
   "metadata": {},
   "outputs": [
    {
     "name": "stdout",
     "output_type": "stream",
     "text": [
      "1\n",
      "1 -3\n",
      "1 -3 5\n",
      "1 -3 5 -6\n",
      "1 -3 5 -6 -10\n",
      "1 -3 5 -6 -10 13\n",
      "340\n"
     ]
    }
   ],
   "source": [
    "sumFin=0\n",
    "inList=[]\n",
    "while True:\n",
    "    a=int(input())\n",
    "    inList+=[a]\n",
    "    sum=0\n",
    "    for i in inList:\n",
    "        sum+=i\n",
    "    #print(*inList)\n",
    "    sumFin+=(a**2)\n",
    "    if sum==0:\n",
    "        break\n",
    "print(sumFin)"
   ]
  },
  {
   "cell_type": "code",
   "execution_count": 118,
   "metadata": {},
   "outputs": [
    {
     "name": "stdout",
     "output_type": "stream",
     "text": [
      "1 2 2 3 3 3 "
     ]
    }
   ],
   "source": [
    "newList=[]\n",
    "for i in range(1,20):\n",
    "    newList+=[i]*i\n",
    "\n",
    "a=int(input())\n",
    "for i in range(0,a):\n",
    "    print(newList[i],end=\" \")"
   ]
  },
  {
   "cell_type": "code",
   "execution_count": 127,
   "metadata": {},
   "outputs": [
    {
     "name": "stdout",
     "output_type": "stream",
     "text": [
      "1 4 5 "
     ]
    }
   ],
   "source": [
    "lst=[int(i) for i in input().split()]\n",
    "x=int(input())\n",
    "k=0\n",
    "for i in range(0,len(lst)):\n",
    "    if lst[i]==x:\n",
    "        print(i, end=\" \")\n",
    "    elif lst[i]!=x:\n",
    "        k+=1\n",
    "    elif k==len(lst)-1:\n",
    "        continue\n",
    "if k==len(lst):\n",
    "    print(\"Отсутствует\")\n"
   ]
  },
  {
   "cell_type": "code",
   "execution_count": 215,
   "metadata": {},
   "outputs": [
    {
     "ename": "KeyboardInterrupt",
     "evalue": "Interrupted by user",
     "output_type": "error",
     "traceback": [
      "\u001b[1;31m---------------------------------------------------------------------------\u001b[0m",
      "\u001b[1;31mKeyboardInterrupt\u001b[0m                         Traceback (most recent call last)",
      "Input \u001b[1;32mIn [215]\u001b[0m, in \u001b[0;36m<module>\u001b[1;34m\u001b[0m\n\u001b[0;32m      2\u001b[0m inSTR\u001b[38;5;241m=\u001b[39m\u001b[38;5;124m\"\u001b[39m\u001b[38;5;124m\"\u001b[39m\n\u001b[0;32m      3\u001b[0m \u001b[38;5;28;01mwhile\u001b[39;00m \u001b[38;5;28;01mTrue\u001b[39;00m:\n\u001b[1;32m----> 4\u001b[0m     a\u001b[38;5;241m=\u001b[39m\u001b[38;5;28;43minput\u001b[39;49m\u001b[43m(\u001b[49m\u001b[43m)\u001b[49m\n\u001b[0;32m      5\u001b[0m     \u001b[38;5;28;01mif\u001b[39;00m a\u001b[38;5;241m==\u001b[39m\u001b[38;5;124m\"\u001b[39m\u001b[38;5;124mend\u001b[39m\u001b[38;5;124m\"\u001b[39m:\n\u001b[0;32m      6\u001b[0m         \u001b[38;5;28;01mbreak\u001b[39;00m\n",
      "File \u001b[1;32mC:\\Program Files\\Python310\\lib\\site-packages\\ipykernel\\kernelbase.py:1044\u001b[0m, in \u001b[0;36mKernel.raw_input\u001b[1;34m(self, prompt)\u001b[0m\n\u001b[0;32m   1040\u001b[0m \u001b[38;5;28;01mif\u001b[39;00m \u001b[38;5;129;01mnot\u001b[39;00m \u001b[38;5;28mself\u001b[39m\u001b[38;5;241m.\u001b[39m_allow_stdin:\n\u001b[0;32m   1041\u001b[0m     \u001b[38;5;28;01mraise\u001b[39;00m StdinNotImplementedError(\n\u001b[0;32m   1042\u001b[0m         \u001b[38;5;124m\"\u001b[39m\u001b[38;5;124mraw_input was called, but this frontend does not support input requests.\u001b[39m\u001b[38;5;124m\"\u001b[39m\n\u001b[0;32m   1043\u001b[0m     )\n\u001b[1;32m-> 1044\u001b[0m \u001b[38;5;28;01mreturn\u001b[39;00m \u001b[38;5;28;43mself\u001b[39;49m\u001b[38;5;241;43m.\u001b[39;49m\u001b[43m_input_request\u001b[49m\u001b[43m(\u001b[49m\n\u001b[0;32m   1045\u001b[0m \u001b[43m    \u001b[49m\u001b[38;5;28;43mstr\u001b[39;49m\u001b[43m(\u001b[49m\u001b[43mprompt\u001b[49m\u001b[43m)\u001b[49m\u001b[43m,\u001b[49m\n\u001b[0;32m   1046\u001b[0m \u001b[43m    \u001b[49m\u001b[38;5;28;43mself\u001b[39;49m\u001b[38;5;241;43m.\u001b[39;49m\u001b[43m_parent_ident\u001b[49m\u001b[43m[\u001b[49m\u001b[38;5;124;43m\"\u001b[39;49m\u001b[38;5;124;43mshell\u001b[39;49m\u001b[38;5;124;43m\"\u001b[39;49m\u001b[43m]\u001b[49m\u001b[43m,\u001b[49m\n\u001b[0;32m   1047\u001b[0m \u001b[43m    \u001b[49m\u001b[38;5;28;43mself\u001b[39;49m\u001b[38;5;241;43m.\u001b[39;49m\u001b[43mget_parent\u001b[49m\u001b[43m(\u001b[49m\u001b[38;5;124;43m\"\u001b[39;49m\u001b[38;5;124;43mshell\u001b[39;49m\u001b[38;5;124;43m\"\u001b[39;49m\u001b[43m)\u001b[49m\u001b[43m,\u001b[49m\n\u001b[0;32m   1048\u001b[0m \u001b[43m    \u001b[49m\u001b[43mpassword\u001b[49m\u001b[38;5;241;43m=\u001b[39;49m\u001b[38;5;28;43;01mFalse\u001b[39;49;00m\u001b[43m,\u001b[49m\n\u001b[0;32m   1049\u001b[0m \u001b[43m\u001b[49m\u001b[43m)\u001b[49m\n",
      "File \u001b[1;32mC:\\Program Files\\Python310\\lib\\site-packages\\ipykernel\\kernelbase.py:1089\u001b[0m, in \u001b[0;36mKernel._input_request\u001b[1;34m(self, prompt, ident, parent, password)\u001b[0m\n\u001b[0;32m   1086\u001b[0m             \u001b[38;5;28;01mbreak\u001b[39;00m\n\u001b[0;32m   1087\u001b[0m \u001b[38;5;28;01mexcept\u001b[39;00m \u001b[38;5;167;01mKeyboardInterrupt\u001b[39;00m:\n\u001b[0;32m   1088\u001b[0m     \u001b[38;5;66;03m# re-raise KeyboardInterrupt, to truncate traceback\u001b[39;00m\n\u001b[1;32m-> 1089\u001b[0m     \u001b[38;5;28;01mraise\u001b[39;00m \u001b[38;5;167;01mKeyboardInterrupt\u001b[39;00m(\u001b[38;5;124m\"\u001b[39m\u001b[38;5;124mInterrupted by user\u001b[39m\u001b[38;5;124m\"\u001b[39m) \u001b[38;5;28;01mfrom\u001b[39;00m \u001b[38;5;28mNone\u001b[39m\n\u001b[0;32m   1090\u001b[0m \u001b[38;5;28;01mexcept\u001b[39;00m \u001b[38;5;167;01mException\u001b[39;00m:\n\u001b[0;32m   1091\u001b[0m     \u001b[38;5;28mself\u001b[39m\u001b[38;5;241m.\u001b[39mlog\u001b[38;5;241m.\u001b[39mwarning(\u001b[38;5;124m\"\u001b[39m\u001b[38;5;124mInvalid Message:\u001b[39m\u001b[38;5;124m\"\u001b[39m, exc_info\u001b[38;5;241m=\u001b[39m\u001b[38;5;28;01mTrue\u001b[39;00m)\n",
      "\u001b[1;31mKeyboardInterrupt\u001b[0m: Interrupted by user"
     ]
    }
   ],
   "source": [
    "inMTX=[]\n",
    "inSTR=\"\"\n",
    "while True:\n",
    "    a=input()\n",
    "    if a==\"end\":\n",
    "        break\n",
    "    else:\n",
    "        inSTR=[int(i) for i in a.split()]\n",
    "        inMTX+=[inSTR] \n",
    "sizeL=len(inSTR)\n",
    "sizeW=len(inMTX)\n",
    "\n",
    "for i in range(sizeW):\n",
    "    for j in range(sizeL):\n",
    "        if i==sizeW-1 and j==sizeL-1:\n",
    "            sum=inMTX[i-1][j]+inMTX[0][j]+inMTX[i][j-1]+inMTX[i][0]\n",
    "        elif i==sizeW-1:\n",
    "            sum=inMTX[i-1][j]+inMTX[0][j]+inMTX[i][j-1]+inMTX[i][j+1]\n",
    "        elif j==sizeL-1:\n",
    "            sum=inMTX[i-1][j]+inMTX[i+1][j]+inMTX[i][j-1]+inMTX[i][0]\n",
    "        else:\n",
    "            sum=inMTX[i-1][j]+inMTX[i+1][j]+inMTX[i][j-1]+inMTX[i][j+1]\n",
    "        print(sum,end=\" \")\n",
    "    print()\n",
    "\n"
   ]
  },
  {
   "cell_type": "code",
   "execution_count": 216,
   "metadata": {},
   "outputs": [
    {
     "name": "stdout",
     "output_type": "stream",
     "text": [
      "[9]\n",
      "9\n",
      "9\n"
     ]
    }
   ],
   "source": [
    "a = [9]\n",
    "print(a)\n",
    "print(a[-1])\n",
    "print(a[0])"
   ]
  },
  {
   "cell_type": "code",
   "execution_count": 219,
   "metadata": {},
   "outputs": [
    {
     "name": "stdout",
     "output_type": "stream",
     "text": [
      "1 2 3 \n",
      "4 5 6 \n",
      "7 8 9 \n",
      "6\n"
     ]
    }
   ],
   "source": [
    "a=[[1,2,3],[4,5,6],[7,8,9]]\n",
    "for i in range(3):\n",
    "    for j in range(3):\n",
    "        print(a[i][j],end=\" \")\n",
    "        input()\n",
    "    print()\n",
    "    input()\n",
    "print(a[1][2])"
   ]
  },
  {
   "cell_type": "code",
   "execution_count": 504,
   "metadata": {},
   "outputs": [
    {
     "name": "stdout",
     "output_type": "stream",
     "text": [
      "1 0 0\n",
      "2 0 1\n",
      "3 0 2\n",
      "4 0 3\n",
      "5 0 4\n",
      "6 1 0\n",
      "7 2 1\n",
      "8 3 2\n",
      "9 4 3\n",
      "10 4 4\n",
      "11 2 0\n",
      "12 2 1\n",
      "13 2 2\n",
      "14 2 3\n",
      "15 3 4\n",
      "16 3 0\n",
      "17 4 1\n",
      "18 4 2\n",
      "19 4 3\n",
      "20 4 4\n",
      "21 4 0\n",
      "1\t2\t3\t4\t5\t\n",
      "6\t7\t8\t9\t10\t\n",
      "11\t12\t13\t14\t15\t\n",
      "16\t17\t18\t19\t20\t\n",
      "21\t22\t23\t24\t25\t\n",
      "\n",
      "1\t2\t3\t4\t5\t\n",
      "21\t20\t18\t19\t6\t\n",
      "16\t0\t0\t0\t7\t\n",
      "14\t0\t0\t0\t8\t\n",
      "13\t12\t11\t10\t9\t\n"
     ]
    }
   ],
   "source": [
    "a=int(input())\n",
    "newMTX=[]\n",
    "outMTX=[[]]\n",
    "newSTR=[]\n",
    "n=[i+1 for i in range(a**2)]\n",
    "#print(n)\n",
    "ind=0\n",
    "\n",
    "outMTX=[[0]*a for i in range(a)]\n",
    "\n",
    "for i in range(a):\n",
    "    for j in range(a):\n",
    "            newSTR+=[n[ind]]\n",
    "            ind+=1\n",
    "    newMTX+=[newSTR]\n",
    "    newSTR=[]\n",
    "\n",
    "k=1\n",
    "step=1\n",
    "while k <=a*4+1:\n",
    "    for i in range(a):\n",
    "        for j in range(a):\n",
    "            if k<a:\n",
    "                print(k,i,j)\n",
    "                outMTX[i][j]=k\n",
    "                k+=1\n",
    "            elif a<=k<a*2-1:\n",
    "                print(k,i,j)\n",
    "                outMTX[i][a-1]=k\n",
    "                k+=1\n",
    "                i+=1\n",
    "            elif a*2-1<=k<a*3-1:\n",
    "                print(k,i,j)\n",
    "                outMTX[a-1][-j+2]=k\n",
    "                k+=1\n",
    "                j+=1\n",
    "                \n",
    "            elif a*3-1<=k<a*4-3:\n",
    "                print(k,i,j)\n",
    "                outMTX[-i][0]=k\n",
    "                k+=1\n",
    "                i+=1\n",
    "            elif a*4-3<=k<a*4:\n",
    "                print(k,i,j)\n",
    "                outMTX[1][j]=k\n",
    "                k+=1\n",
    "                j+=1\n",
    "            elif a*4<=k<=a*4+1:\n",
    "                print(k,i,j)\n",
    "                outMTX[-i][-j]=k\n",
    "                k+=1\n",
    "                i+=1\n",
    "                j-=1\n",
    "            \n",
    "                \n",
    "\n",
    "        \n",
    "        \n",
    "for i in range(a):\n",
    "    for j in range(a):\n",
    "        print(newMTX[i][j],end=\"\\t\")\n",
    "    print()\n",
    "\n",
    "print()\n",
    "for i in range(a):\n",
    "    for j in range(a):\n",
    "        print(outMTX[i][j],end=\"\\t\")\n",
    "    print()\n"
   ]
  },
  {
   "cell_type": "code",
   "execution_count": null,
   "metadata": {},
   "outputs": [],
   "source": []
  }
 ],
 "metadata": {
  "interpreter": {
   "hash": "b89b5cfaba6639976dc87ff2fec6d58faec662063367e2c229c520fe71072417"
  },
  "kernelspec": {
   "display_name": "Python 3.10.1 64-bit",
   "language": "python",
   "name": "python3"
  },
  "language_info": {
   "codemirror_mode": {
    "name": "ipython",
    "version": 3
   },
   "file_extension": ".py",
   "mimetype": "text/x-python",
   "name": "python",
   "nbconvert_exporter": "python",
   "pygments_lexer": "ipython3",
   "version": "3.10.1"
  },
  "orig_nbformat": 4
 },
 "nbformat": 4,
 "nbformat_minor": 2
}
