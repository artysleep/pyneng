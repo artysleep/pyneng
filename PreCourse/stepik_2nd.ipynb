{
 "cells": [
  {
   "cell_type": "markdown",
   "metadata": {},
   "source": [
    "# Циклы. Строки. Списки"
   ]
  },
  {
   "cell_type": "code",
   "execution_count": 293,
   "metadata": {},
   "outputs": [
    {
     "name": "stdout",
     "output_type": "stream",
     "text": [
      "0\t0\t0\t0\t0\t\n",
      "0\t0\t0\t0\t0\t\n",
      "0\t0\t0\t0\t0\t\n",
      "0\t0\t0\t0\t0\t\n",
      "0\t0\t0\t0\t0\t\n",
      "0\n",
      "1\t2\t3\t4\t5\t\n",
      "0\t0\t0\t0\t6\t\n",
      "0\t0\t0\t0\t7\t\n",
      "0\t0\t0\t0\t8\t\n",
      "0\t0\t0\t0\t9\t\n"
     ]
    }
   ],
   "source": [
    "a=int(input())\n",
    "size=a-1\n",
    "outMtrx = [[0 for j in range(a)] for i in range(a)]\n",
    "\n",
    "for i in range(a):\n",
    "    for j in range(a):\n",
    "        print(outMtrx[i][j],end=\"\\t\")\n",
    "    print()\n",
    "print(outMtrx[0][0])\n",
    "i=0\n",
    "j=1\n",
    "outMtrx[0][0]=1\n",
    "while outMtrx[i][j]==0:\n",
    "    for j in range(size):\n",
    "        j+=1\n",
    "        outMtrx[i][j]=int(outMtrx[i][j-1])+1\n",
    "        #print(i,j,*outMtrx)\n",
    "    size-=1\n",
    "    for i in range(size):\n",
    "        i+=1\n",
    "        outMtrx[i][j]=int(outMtrx[i-1][j])+1\n",
    "        #print(i,j,*outMtrx)\n",
    "    i+=1\n",
    "    outMtrx[i][j]=int(outMtrx[i-1][j])+1\n",
    "    for j in range(0,size,-1):\n",
    "        print(i,j,*outMtrx)\n",
    "        j+=1\n",
    "        outMtrx[i][j]=int(outMtrx[j][j-1])+1\n",
    "\n",
    "    \n",
    "\n",
    "\n",
    "    \n",
    "    \n",
    "#print\n",
    "for i in range(a):\n",
    "    for j in range(a):\n",
    "        print(outMtrx[i][j],end=\"\\t\")\n",
    "    print()\n",
    "\n",
    "\n"
   ]
  },
  {
   "cell_type": "code",
   "execution_count": null,
   "metadata": {},
   "outputs": [],
   "source": []
  },
  {
   "cell_type": "code",
   "execution_count": null,
   "metadata": {},
   "outputs": [],
   "source": []
  }
 ],
 "metadata": {
  "interpreter": {
   "hash": "b89b5cfaba6639976dc87ff2fec6d58faec662063367e2c229c520fe71072417"
  },
  "kernelspec": {
   "display_name": "Python 3.10.1 64-bit",
   "language": "python",
   "name": "python3"
  },
  "language_info": {
   "codemirror_mode": {
    "name": "ipython",
    "version": 3
   },
   "file_extension": ".py",
   "mimetype": "text/x-python",
   "name": "python",
   "nbconvert_exporter": "python",
   "pygments_lexer": "ipython3",
   "version": "3.10.1"
  },
  "orig_nbformat": 4
 },
 "nbformat": 4,
 "nbformat_minor": 2
}
